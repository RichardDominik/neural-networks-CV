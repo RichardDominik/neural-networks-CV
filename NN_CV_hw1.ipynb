{
  "nbformat": 4,
  "nbformat_minor": 0,
  "metadata": {
    "colab": {
      "name": "NN-CV-hw1.ipynb",
      "provenance": [],
      "collapsed_sections": [],
      "authorship_tag": "ABX9TyPlrIkip37L6Za2+y7F322n",
      "include_colab_link": true
    },
    "kernelspec": {
      "name": "python3",
      "display_name": "Python 3"
    },
    "language_info": {
      "name": "python"
    },
    "accelerator": "GPU"
  },
  "cells": [
    {
      "cell_type": "markdown",
      "metadata": {
        "id": "view-in-github",
        "colab_type": "text"
      },
      "source": [
        "<a href=\"https://colab.research.google.com/github/RichardDominik/neural-networks-CV/blob/master/NN_CV_hw1.ipynb\" target=\"_parent\"><img src=\"https://colab.research.google.com/assets/colab-badge.svg\" alt=\"Open In Colab\"/></a>"
      ]
    },
    {
      "cell_type": "markdown",
      "metadata": {
        "id": "wHDkZ69f_KyA"
      },
      "source": [
        "# Domáca úloha č. 1 "
      ]
    },
    {
      "cell_type": "code",
      "metadata": {
        "id": "MUPS5Y3y_XKe"
      },
      "source": [
        "import torch\n",
        "import torchvision\n",
        "import torchvision.transforms as transforms\n",
        "\n",
        "import numpy as np\n",
        "from matplotlib import pyplot as plt"
      ],
      "execution_count": 1,
      "outputs": []
    },
    {
      "cell_type": "markdown",
      "metadata": {
        "id": "u04NhHcxCyjP"
      },
      "source": [
        "Načítanie datasetu Cifar 10"
      ]
    },
    {
      "cell_type": "code",
      "metadata": {
        "colab": {
          "base_uri": "https://localhost:8080/"
        },
        "id": "PK25uyxYDQIq",
        "outputId": "c1812286-1e3f-48c2-e3e2-16cf52352aee"
      },
      "source": [
        "classes = ('plane', 'car', 'bird', 'cat', 'deer', 'dog', 'frog', 'horse', 'ship', 'truck')\n",
        "transform = transforms.ToTensor()\n",
        "generator = torch.Generator().manual_seed(42)\n",
        "\n",
        "dataset = torchvision.datasets.CIFAR10(root='./data', train=True, download=True, transform=transform)\n",
        "testset = torchvision.datasets.CIFAR10(root='./data', train=False, download=True, transform=transform)\n",
        "\n",
        "trainset, valset = torch.utils.data.random_split(dataset, [45000, 5000], generator=generator)"
      ],
      "execution_count": null,
      "outputs": [
        {
          "output_type": "stream",
          "name": "stdout",
          "text": [
            "Files already downloaded and verified\n",
            "Files already downloaded and verified\n"
          ]
        }
      ]
    },
    {
      "cell_type": "markdown",
      "metadata": {
        "id": "x77krmxEExWm"
      },
      "source": [
        "Zobrazenie obrázkov z datasetu"
      ]
    },
    {
      "cell_type": "code",
      "metadata": {
        "colab": {
          "base_uri": "https://localhost:8080/",
          "height": 549
        },
        "id": "_9fRvxtUE0DA",
        "outputId": "9304c6cd-83b3-4a03-fedc-3e9e83484531"
      },
      "source": [
        "previewloader = torch.utils.data.DataLoader(testset, batch_size=1, shuffle=True)\n",
        "\n",
        "for i, sample in enumerate(previewloader):\n",
        "  if i > 1:\n",
        "    break\n",
        "  x, y = sample\n",
        "  img = np.moveaxis(x.numpy()[0], 0, -1)\n",
        "  plt.imshow(img)\n",
        "  plt.show()\n",
        "  print(classes[y.item()])"
      ],
      "execution_count": null,
      "outputs": [
        {
          "output_type": "display_data",
          "data": {
            "image/png": "[encoded data removed]",
            "text/plain": [
              "<Figure size 432x288 with 1 Axes>"
            ]
          },
          "metadata": {
            "needs_background": "light"
          }
        },
        {
          "output_type": "stream",
          "name": "stdout",
          "text": [
            "cat\n"
          ]
        },
        {
          "output_type": "display_data",
          "data": {
            "image/png": "[encoded data removed]",
            "text/plain": [
              "<Figure size 432x288 with 1 Axes>"
            ]
          },
          "metadata": {
            "needs_background": "light"
          }
        },
        {
          "output_type": "stream",
          "name": "stdout",
          "text": [
            "plane\n"
          ]
        }
      ]
    },
    {
      "cell_type": "markdown",
      "metadata": {
        "id": "6E53SFrcFmd-"
      },
      "source": [
        "# Základný model"
      ]
    },
    {
      "cell_type": "code",
      "metadata": {
        "colab": {
          "base_uri": "https://localhost:8080/",
          "height": 1000
        },
        "id": "k0SI8tbwFsyI",
        "outputId": "019aaa54-52e3-42de-bbe5-2c40c24ebd2f"
      },
      "source": [
        "from torch.nn import Sequential, Linear, ReLU, Softmax, Conv2d, MaxPool2d, Flatten, CrossEntropyLoss\n",
        "from torch.optim import Adam\n",
        "from torch.utils.data import DataLoader\n",
        "\n",
        "# skusit velkost kernelu 5 \n",
        "KERNEL_SIZE_CONV = 3\n",
        "BATCH_SIZE = 32\n",
        "LEARNING_RATE = 1e-3\n",
        "#viac ako X epoch overfitting\n",
        "NUMBER_OF_EPOCHS = 10\n",
        "\n",
        "device = torch.device(\"cuda:0\" if torch.cuda.is_available() else \"cpu\")\n",
        "\n",
        "model, model_inference = build_model()\n",
        "model, model_inference = model.to(device), model_inference.to(device)\n",
        "\n",
        "dataloader_train = DataLoader(trainset, batch_size=BATCH_SIZE, shuffle=True)\n",
        "dataloader_val = DataLoader(valset, batch_size=BATCH_SIZE, shuffle=True)\n",
        "\n",
        "ce_loss = CrossEntropyLoss().to(device)\n",
        "optimizer = Adam(model.parameters(), lr=LEARNING_RATE)\n",
        "\n",
        "epoch_train_losses = []\n",
        "epoch_val_losses = []\n",
        "epoch_val_accs = []\n",
        "\n",
        "def build_model():\n",
        "  model = Sequential(Conv2d(3, 32, KERNEL_SIZE_CONV), MaxPool2d(2), ReLU(), \n",
        "                    Conv2d(32, 64, KERNEL_SIZE_CONV), MaxPool2d(2), ReLU(),\n",
        "                    Conv2d(64, 128, KERNEL_SIZE_CONV), MaxPool2d(2), ReLU(),\n",
        "                    Flatten(), \n",
        "                    Linear(512, 256), ReLU(), Linear(256, 128), ReLU(),\n",
        "                    Linear(128, 10))\n",
        "\n",
        "  # dim=1\n",
        "  model_inference = Sequential(model, Softmax())\n",
        "  return model, model_inference\n",
        "\n",
        "# model, model_inference = build_model()\n",
        "# model_inference(torch.from_numpy(np.zeros([1, 3, 32, 32], dtype=np.float32)))\n",
        "\n",
        "def one_epoch(model, loss, optimizer, dataloader_train, dataloader_val, device, verbose=True):\n",
        "  train_losses = []\n",
        "  val_losses = []\n",
        "\n",
        "  model.train()\n",
        "\n",
        "  for i, batch in enumerate(dataloader_train):  \n",
        "    x, y = batch[0].to(device), batch[1].to(device) \n",
        "    optimizer.zero_grad()\n",
        "\n",
        "    out = model(x)\n",
        "    loss = ce_loss(out, y)\n",
        "    loss.backward()\n",
        "    train_losses.append(loss.item())\n",
        "    optimizer.step()\n",
        "    if i % 100 == 0 and verbose:\n",
        "      print(\"Training loss at step {}: {}\".format(i, loss.item()))\n",
        "\n",
        "  model.eval()\n",
        "\n",
        "  with torch.no_grad():\n",
        "    correct = 0\n",
        "    total = 0\n",
        "    for i, batch in enumerate(dataloader_val):  \n",
        "      x, y = batch[0].to(device), batch[1].to(device)  \n",
        "\n",
        "      out = model(x)\n",
        "      loss = ce_loss(out, y)\n",
        "      acc = torch.sum(torch.argmax(out, dim=-1) == y)\n",
        "      correct += acc.item()\n",
        "      total += len(batch[1])\n",
        "      val_losses.append(loss.item())\n",
        "\n",
        "  val_acc = correct / total\n",
        "\n",
        "  return np.mean(train_losses), np.mean(val_losses), val_acc\n",
        "\n",
        "for e in range(NUMBER_OF_EPOCHS):\n",
        "  train_loss, val_loss, val_acc = one_epoch(model, ce_loss, optimizer, dataloader_train, dataloader_val, device)\n",
        "\n",
        "  print(\"Val loss at epoch {}: {}\".format(e, val_loss))\n",
        "  print(\"Val acc at epoch {}: {}\".format(e, val_acc))\n",
        "\n",
        "  epoch_train_losses.append(train_loss)\n",
        "  epoch_val_losses.append(val_loss)\n",
        "  epoch_val_accs.append(val_acc)\n",
        "\n",
        "# pridat nazvy + legendy\n",
        "plt.plot(epoch_train_losses, c='r')\n",
        "plt.plot(epoch_val_losses, c='b')\n",
        "plt.show()\n",
        "\n",
        "plt.plot(epoch_val_accs, c='r')\n",
        "plt.show()"
      ],
      "execution_count": null,
      "outputs": [
        {
          "output_type": "stream",
          "name": "stdout",
          "text": [
            "Training loss at step 0: 2.2993857860565186\n",
            "Training loss at step 100: 1.9624378681182861\n",
            "Training loss at step 200: 2.089033365249634\n",
            "Training loss at step 300: 2.0501952171325684\n",
            "Training loss at step 400: 1.7849929332733154\n",
            "Training loss at step 500: 1.5414044857025146\n",
            "Training loss at step 600: 1.7329238653182983\n",
            "Training loss at step 700: 1.4485498666763306\n",
            "Training loss at step 800: 1.4178111553192139\n",
            "Training loss at step 900: 1.4663822650909424\n",
            "Training loss at step 1000: 1.4433159828186035\n",
            "Training loss at step 1100: 1.6722463369369507\n",
            "Training loss at step 1200: 1.4790551662445068\n",
            "Training loss at step 1300: 1.4964038133621216\n",
            "Training loss at step 1400: 1.4591305255889893\n",
            "Val loss at epoch 0: 1.3990589942142462\n",
            "Val acc at epoch 0: 0.4926\n",
            "Training loss at step 0: 1.2751961946487427\n",
            "Training loss at step 100: 1.4159200191497803\n",
            "Training loss at step 200: 1.3973661661148071\n",
            "Training loss at step 300: 1.2777090072631836\n",
            "Training loss at step 400: 1.180396556854248\n",
            "Training loss at step 500: 1.1263587474822998\n",
            "Training loss at step 600: 1.3261170387268066\n",
            "Training loss at step 700: 1.3125970363616943\n",
            "Training loss at step 800: 1.3318458795547485\n",
            "Training loss at step 900: 1.4761649370193481\n",
            "Training loss at step 1000: 1.07987642288208\n",
            "Training loss at step 1100: 1.263939380645752\n",
            "Training loss at step 1200: 1.3413100242614746\n",
            "Training loss at step 1300: 0.7937173843383789\n",
            "Training loss at step 1400: 1.0987646579742432\n",
            "Val loss at epoch 1: 1.204620710224103\n",
            "Val acc at epoch 1: 0.567\n",
            "Training loss at step 0: 0.9109534621238708\n",
            "Training loss at step 100: 0.8522927165031433\n",
            "Training loss at step 200: 0.8246623277664185\n",
            "Training loss at step 300: 1.271817922592163\n",
            "Training loss at step 400: 1.396105408668518\n",
            "Training loss at step 500: 1.426405668258667\n",
            "Training loss at step 600: 1.045494556427002\n",
            "Training loss at step 700: 1.109102487564087\n",
            "Training loss at step 800: 0.9908158183097839\n",
            "Training loss at step 900: 0.963789701461792\n",
            "Training loss at step 1000: 0.9234057664871216\n",
            "Training loss at step 1100: 1.152522087097168\n",
            "Training loss at step 1200: 1.0725412368774414\n",
            "Training loss at step 1300: 0.8611907362937927\n",
            "Training loss at step 1400: 0.6520692706108093\n",
            "Val loss at epoch 2: 1.0454364678092822\n",
            "Val acc at epoch 2: 0.622\n",
            "Training loss at step 0: 0.902931272983551\n",
            "Training loss at step 100: 1.0748591423034668\n",
            "Training loss at step 200: 1.0954246520996094\n",
            "Training loss at step 300: 0.8127387166023254\n",
            "Training loss at step 400: 1.12675142288208\n",
            "Training loss at step 500: 1.072483777999878\n",
            "Training loss at step 600: 0.8167583346366882\n",
            "Training loss at step 700: 1.0916987657546997\n",
            "Training loss at step 800: 0.9719187021255493\n",
            "Training loss at step 900: 1.0753977298736572\n",
            "Training loss at step 1000: 0.7835184335708618\n",
            "Training loss at step 1100: 1.1381146907806396\n",
            "Training loss at step 1200: 1.2127984762191772\n",
            "Training loss at step 1300: 0.8804287314414978\n",
            "Training loss at step 1400: 0.9807124137878418\n",
            "Val loss at epoch 3: 0.9761516715690588\n",
            "Val acc at epoch 3: 0.6526\n",
            "Training loss at step 0: 0.8943966627120972\n",
            "Training loss at step 100: 1.005179524421692\n",
            "Training loss at step 200: 0.8673114776611328\n",
            "Training loss at step 300: 0.7324832081794739\n",
            "Training loss at step 400: 1.1187044382095337\n",
            "Training loss at step 500: 1.1775214672088623\n",
            "Training loss at step 600: 1.1696664094924927\n",
            "Training loss at step 700: 0.9787963628768921\n",
            "Training loss at step 800: 0.5268383026123047\n",
            "Training loss at step 900: 0.8624241352081299\n",
            "Training loss at step 1000: 0.7152215242385864\n",
            "Training loss at step 1100: 0.7162119150161743\n",
            "Training loss at step 1200: 1.0427846908569336\n",
            "Training loss at step 1300: 1.0655508041381836\n",
            "Training loss at step 1400: 0.9059667587280273\n",
            "Val loss at epoch 4: 0.9381117566375975\n",
            "Val acc at epoch 4: 0.6658\n",
            "Training loss at step 0: 0.9879651069641113\n",
            "Training loss at step 100: 0.8587244153022766\n",
            "Training loss at step 200: 0.9575170874595642\n",
            "Training loss at step 300: 0.7060043215751648\n",
            "Training loss at step 400: 0.578701913356781\n",
            "Training loss at step 500: 1.0452152490615845\n",
            "Training loss at step 600: 0.9338926672935486\n",
            "Training loss at step 700: 0.7071691155433655\n",
            "Training loss at step 800: 1.1994121074676514\n",
            "Training loss at step 900: 1.359472393989563\n",
            "Training loss at step 1000: 0.7653641700744629\n",
            "Training loss at step 1100: 0.37574440240859985\n",
            "Training loss at step 1200: 0.8488645553588867\n",
            "Training loss at step 1300: 1.1875172853469849\n",
            "Training loss at step 1400: 0.6702666282653809\n",
            "Val loss at epoch 5: 0.8837306776623817\n",
            "Val acc at epoch 5: 0.6864\n",
            "Training loss at step 0: 0.43600693345069885\n",
            "Training loss at step 100: 0.8298563361167908\n",
            "Training loss at step 200: 0.5877307653427124\n",
            "Training loss at step 300: 0.5128242373466492\n",
            "Training loss at step 400: 0.7711778879165649\n",
            "Training loss at step 500: 0.932465672492981\n",
            "Training loss at step 600: 0.713058590888977\n",
            "Training loss at step 700: 1.1095572710037231\n",
            "Training loss at step 800: 0.6975497007369995\n",
            "Training loss at step 900: 0.6654704213142395\n",
            "Training loss at step 1000: 0.8970755338668823\n",
            "Training loss at step 1100: 1.045790195465088\n",
            "Training loss at step 1200: 1.150848388671875\n",
            "Training loss at step 1300: 0.6376950144767761\n",
            "Training loss at step 1400: 0.5756145715713501\n",
            "Val loss at epoch 6: 0.8874952168601333\n",
            "Val acc at epoch 6: 0.6928\n",
            "Training loss at step 0: 0.8662225008010864\n",
            "Training loss at step 100: 0.38233229517936707\n",
            "Training loss at step 200: 0.5182415246963501\n",
            "Training loss at step 300: 0.5543379187583923\n",
            "Training loss at step 400: 0.7002473473548889\n",
            "Training loss at step 500: 0.4717869162559509\n",
            "Training loss at step 600: 0.8151721358299255\n",
            "Training loss at step 700: 0.7437503337860107\n",
            "Training loss at step 800: 0.45599403977394104\n",
            "Training loss at step 900: 0.8110449314117432\n",
            "Training loss at step 1000: 0.5242406725883484\n",
            "Training loss at step 1100: 0.6567610502243042\n",
            "Training loss at step 1200: 0.3545304238796234\n",
            "Training loss at step 1300: 0.49342960119247437\n",
            "Training loss at step 1400: 0.5440807938575745\n",
            "Val loss at epoch 7: 0.8726602610509107\n",
            "Val acc at epoch 7: 0.7008\n",
            "Training loss at step 0: 0.3573271334171295\n",
            "Training loss at step 100: 0.3213225305080414\n",
            "Training loss at step 200: 0.7651466131210327\n",
            "Training loss at step 300: 0.6350381374359131\n",
            "Training loss at step 400: 0.7853535413742065\n",
            "Training loss at step 500: 0.6911068558692932\n",
            "Training loss at step 600: 0.618908166885376\n",
            "Training loss at step 700: 0.8543720245361328\n",
            "Training loss at step 800: 0.468765527009964\n",
            "Training loss at step 900: 0.8660350441932678\n",
            "Training loss at step 1000: 0.520457923412323\n",
            "Training loss at step 1200: 0.8848655223846436\n",
            "Training loss at step 1300: 0.4102570116519928\n",
            "Training loss at step 1400: 0.6861629486083984\n",
            "Val loss at epoch 8: 0.8848003532476486\n",
            "Val acc at epoch 8: 0.6982\n",
            "Training loss at step 0: 0.6289952397346497\n",
            "Training loss at step 100: 0.8421878218650818\n",
            "Training loss at step 200: 0.4492342174053192\n",
            "Training loss at step 300: 0.4690210223197937\n",
            "Training loss at step 400: 0.6985204815864563\n",
            "Training loss at step 500: 0.40399619936943054\n",
            "Training loss at step 600: 0.7909247875213623\n",
            "Training loss at step 700: 0.44062313437461853\n",
            "Training loss at step 800: 0.8387582302093506\n",
            "Training loss at step 900: 0.671737790107727\n",
            "Training loss at step 1000: 0.5677582621574402\n",
            "Training loss at step 1100: 0.38822099566459656\n",
            "Training loss at step 1200: 0.7414708733558655\n",
            "Training loss at step 1300: 0.6999000310897827\n",
            "Training loss at step 1400: 0.6944831609725952\n",
            "Val loss at epoch 9: 0.8765278868614488\n",
            "Val acc at epoch 9: 0.7086\n"
          ]
        },
        {
          "output_type": "display_data",
          "data": {
            "image/png": "[encoded data removed]",
            "text/plain": [
              "<Figure size 432x288 with 1 Axes>"
            ]
          },
          "metadata": {
            "needs_background": "light"
          }
        },
        {
          "output_type": "display_data",
          "data": {
            "image/png": "[encoded data removed]",
            "text/plain": [
              "<Figure size 432x288 with 1 Axes>"
            ]
          },
          "metadata": {
            "needs_background": "light"
          }
        }
      ]
    },
    {
      "cell_type": "code",
      "metadata": {
        "id": "PbqiRZ4FCm2i"
      },
      "source": [
        "# Komentar k predchadajuzemu modelu \n",
        "\n",
        "# vstupom je obrazok 32x32 \n",
        "\n",
        "# Conv2d(3, 32, KERNEL_SIZE_CONV)\n",
        "# pocet vstup kanalov RGB, pocet vyst kanalov volime si samostatne, kernel size\n",
        "# torch.Size([32, 32, 30, 30])\n",
        "# batch_size, pocet vyst kanalov, vyska obrazka, sirka obrazka \n",
        "\n",
        "# MaxPool2d(2)\n",
        "# velkost poolingu 2x2 a stride je 1 \n",
        "# torch.Size([32, 32, 15, 15])\n",
        "\n",
        "# ReLU()\n",
        "# torch.Size([32, 32, 15, 15])\n",
        "\n",
        "# Conv2d(32, 64, KERNEL_SIZE_CONV)\n",
        "# pocet vstup kanalov z predchadz vsrvy je 32, pocet vyst kanalov volime si samostatne, kernel size\n",
        "# torch.Size([32, 64, 13, 13])\n",
        "\n",
        "# MaxPool2d(2)\n",
        "# torch.Size([32, 64, 6, 6])\n",
        "\n",
        "# ReLU()\n",
        "# torch.Size([32, 64, 6, 6])\n",
        "\n",
        "# Conv2d(64, 128, KERNEL_SIZE_CONV)\n",
        "# pocet vstup kanalov z predchadz vsrvy je 64, pocet vyst kanalov volime si samostatne, kernel size\n",
        "# torch.Size([32, 128, 4, 4])\n",
        "\n",
        "# MaxPool2d(2)\n",
        "# torch.Size([32, 128, 2, 2])\n",
        "\n",
        "# ReLU()\n",
        "# torch.Size([32, 128, 2, 2])\n",
        "\n",
        "# Flatten()\n",
        "# toto bude 128 * 2 * 2] \n",
        "# torch.Size([32, 512])\n",
        "\n",
        "# in_features, out_features\n",
        "# Linear(512, 256)\n",
        "# torch.Size([32, 256])\n",
        "\n",
        "# ReLU()\n",
        "# torch.Size([32, 256])\n",
        "# torch.Size([32, 256])\n",
        "\n",
        "# Linear(256, 128), ReLU(), Linear(128, 10)\n",
        "# torch.Size([32, 10])"
      ],
      "execution_count": null,
      "outputs": []
    },
    {
      "cell_type": "markdown",
      "metadata": {
        "id": "QgZ7_vEZYFvm"
      },
      "source": [
        "Upraveny zakladny model"
      ]
    },
    {
      "cell_type": "code",
      "metadata": {
        "colab": {
          "base_uri": "https://localhost:8080/",
          "height": 1000
        },
        "id": "jIExiLLUu_w9",
        "outputId": "1bd2c329-a475-48ae-e77b-57ca35dcacaf"
      },
      "source": [
        "from torch.nn import Sequential, Linear, ReLU, Softmax, Conv2d, MaxPool2d, AdaptiveAvgPool2d, CrossEntropyLoss\n",
        "from torch.optim import Adam\n",
        "from torch.utils.data import DataLoader\n",
        "\n",
        "KERNEL_SIZE_CONV = 3\n",
        "STRIDE = 2\n",
        "PADDING = 1\n",
        "MAX_POOL_KERNEL = 2\n",
        "BATCH_SIZE = 32\n",
        "LEARNING_RATE = 1e-3\n",
        "# viac ako 10 epoch overfitting\n",
        "NUMBER_OF_EPOCHS = 10\n",
        "\n",
        "device = torch.device(\"cuda:0\" if torch.cuda.is_available() else \"cpu\")\n",
        "\n",
        "def build_model():\n",
        "  model = Sequential(Conv2d(3, 16, KERNEL_SIZE_CONV, 1, PADDING), MaxPool2d(MAX_POOL_KERNEL, STRIDE), ReLU(),\n",
        "                    Conv2d(16, 32, KERNEL_SIZE_CONV, 1, PADDING), MaxPool2d(MAX_POOL_KERNEL, STRIDE), ReLU(),\n",
        "                    Conv2d(32, 64, KERNEL_SIZE_CONV, 1, PADDING), MaxPool2d(MAX_POOL_KERNEL, STRIDE), ReLU(),\n",
        "                    Flatten(),\n",
        "                    Linear(1024, 512), ReLU(),\n",
        "                    Linear(512, 256), ReLU(),\n",
        "                    Linear(256, 128), ReLU(),\n",
        "                    Linear(128, 10))\n",
        "  \n",
        "  model_inference = Sequential(model, Softmax())\n",
        "  return model, model_inference\n",
        "\n",
        "\n",
        "model, model_inference = build_model()\n",
        "model, model_inference = model.to(device), model_inference.to(device)\n",
        "\n",
        "dataloader_train = DataLoader(trainset, batch_size=BATCH_SIZE, shuffle=True)\n",
        "dataloader_val = DataLoader(valset, batch_size=BATCH_SIZE, shuffle=True)\n",
        "\n",
        "ce_loss = CrossEntropyLoss().to(device)\n",
        "optimizer = Adam(model.parameters(), lr=LEARNING_RATE)\n",
        "\n",
        "epoch_train_losses = []\n",
        "epoch_val_losses = []\n",
        "epoch_val_accs = []\n",
        "\n",
        "def one_epoch(model, loss, optimizer, dataloader_train, dataloader_val, device, verbose=True):\n",
        "  train_losses = []\n",
        "  val_losses = []\n",
        "\n",
        "  model.train()\n",
        "\n",
        "  for i, batch in enumerate(dataloader_train):  \n",
        "    # i hovori o tom ktora davka\n",
        "   \n",
        "    # x je obrazok \n",
        "    # y je trieda do ktorej obr patri\n",
        "    x, y = batch[0].to(device), batch[1].to(device) \n",
        "    optimizer.zero_grad()\n",
        "\n",
        "    out = model(x)\n",
        "    # print(out.shape)\n",
        "\n",
        "    loss = ce_loss(out, y)\n",
        "    loss.backward()\n",
        "    train_losses.append(loss.item())\n",
        "    optimizer.step()\n",
        "    if i % 100 == 0 and verbose:\n",
        "      print(\"Training loss at step {}: {}\".format(i, loss.item()))\n",
        "\n",
        "  model.eval()\n",
        "\n",
        "  with torch.no_grad():\n",
        "    correct = 0\n",
        "    total = 0\n",
        "    for i, batch in enumerate(dataloader_val):  \n",
        "      x, y = batch[0].to(device), batch[1].to(device)  \n",
        "\n",
        "      out = model(x)\n",
        "      loss = ce_loss(out, y)\n",
        "      acc = torch.sum(torch.argmax(out, dim=-1) == y)\n",
        "      correct += acc.item()\n",
        "      total += len(batch[1])\n",
        "      val_losses.append(loss.item())\n",
        "\n",
        "  val_acc = correct / total\n",
        "\n",
        "  return np.mean(train_losses), np.mean(val_losses), val_acc\n",
        "\n",
        "for e in range(NUMBER_OF_EPOCHS):\n",
        "  train_loss, val_loss, val_acc = one_epoch(model, ce_loss, optimizer, dataloader_train, dataloader_val, device)\n",
        "\n",
        "  print(\"Val loss at epoch {}: {}\".format(e, val_loss))\n",
        "  print(\"Val acc at epoch {}: {}\".format(e, val_acc))\n",
        "\n",
        "  epoch_train_losses.append(train_loss)\n",
        "  epoch_val_losses.append(val_loss)\n",
        "  epoch_val_accs.append(val_acc)\n",
        "\n",
        "# pridat nazvy + legendy\n",
        "plt.plot(epoch_train_losses, c='r')\n",
        "plt.plot(epoch_val_losses, c='b')\n",
        "plt.show()\n",
        "\n",
        "plt.plot(epoch_val_accs, c='r')\n",
        "plt.show()"
      ],
      "execution_count": null,
      "outputs": [
        {
          "output_type": "stream",
          "name": "stdout",
          "text": [
            "Training loss at step 0: 2.2949934005737305\n",
            "Training loss at step 100: 1.8654372692108154\n",
            "Training loss at step 200: 2.015465497970581\n",
            "Training loss at step 300: 1.6535277366638184\n",
            "Training loss at step 400: 1.730231761932373\n",
            "Training loss at step 500: 1.5983542203903198\n",
            "Training loss at step 600: 1.4373259544372559\n",
            "Training loss at step 700: 1.5275741815567017\n",
            "Training loss at step 800: 1.4165524244308472\n",
            "Training loss at step 900: 1.42999267578125\n",
            "Training loss at step 1000: 1.4394112825393677\n",
            "Training loss at step 1100: 1.3509445190429688\n",
            "Training loss at step 1200: 1.301119327545166\n",
            "Training loss at step 1300: 1.233428716659546\n",
            "Training loss at step 1400: 1.7274680137634277\n",
            "Val loss at epoch 0: 1.3763381759072566\n",
            "Val acc at epoch 0: 0.5\n",
            "Training loss at step 0: 1.8363393545150757\n",
            "Training loss at step 100: 1.2067195177078247\n",
            "Training loss at step 200: 1.3108240365982056\n",
            "Training loss at step 300: 1.7193408012390137\n",
            "Training loss at step 400: 0.8632066249847412\n",
            "Training loss at step 500: 1.242519497871399\n",
            "Training loss at step 600: 1.0123013257980347\n",
            "Training loss at step 700: 1.2424389123916626\n",
            "Training loss at step 800: 0.8767549991607666\n",
            "Training loss at step 900: 1.3577286005020142\n",
            "Training loss at step 1000: 1.37190842628479\n",
            "Training loss at step 1100: 1.3833134174346924\n",
            "Training loss at step 1200: 1.0090665817260742\n",
            "Training loss at step 1300: 1.1668992042541504\n",
            "Training loss at step 1400: 1.1830723285675049\n",
            "Val loss at epoch 1: 1.1215859256732237\n",
            "Val acc at epoch 1: 0.59\n",
            "Training loss at step 0: 1.0984030961990356\n",
            "Training loss at step 100: 0.50319904088974\n",
            "Training loss at step 200: 0.6605239510536194\n",
            "Training loss at step 300: 0.9018839001655579\n",
            "Training loss at step 400: 0.9507154226303101\n",
            "Training loss at step 500: 1.0176361799240112\n",
            "Training loss at step 600: 1.14885413646698\n",
            "Training loss at step 700: 0.9785622954368591\n",
            "Training loss at step 800: 0.946086049079895\n",
            "Training loss at step 900: 0.7574747204780579\n",
            "Training loss at step 1000: 0.8861358761787415\n",
            "Training loss at step 1100: 0.8679201006889343\n",
            "Training loss at step 1200: 1.0311626195907593\n",
            "Training loss at step 1300: 1.4183648824691772\n",
            "Training loss at step 1400: 1.0553011894226074\n",
            "Val loss at epoch 2: 1.0316418640932459\n",
            "Val acc at epoch 2: 0.629\n",
            "Training loss at step 0: 1.1314771175384521\n",
            "Training loss at step 100: 0.7091536521911621\n",
            "Training loss at step 200: 1.0490370988845825\n",
            "Training loss at step 300: 0.7780292630195618\n",
            "Training loss at step 400: 0.7711589336395264\n",
            "Training loss at step 500: 0.9605906009674072\n",
            "Training loss at step 600: 1.0386574268341064\n",
            "Training loss at step 700: 0.7338498830795288\n",
            "Training loss at step 800: 0.6137357950210571\n",
            "Training loss at step 900: 0.9641356468200684\n",
            "Training loss at step 1000: 1.0703661441802979\n",
            "Training loss at step 1100: 0.7836981415748596\n",
            "Training loss at step 1200: 1.4445456266403198\n",
            "Training loss at step 1300: 0.7611351609230042\n",
            "Training loss at step 1400: 0.6444957256317139\n",
            "Val loss at epoch 3: 0.9900584399320518\n",
            "Val acc at epoch 3: 0.6586\n",
            "Training loss at step 0: 0.7499845623970032\n",
            "Training loss at step 100: 0.639678955078125\n",
            "Training loss at step 200: 0.41351014375686646\n",
            "Training loss at step 300: 1.0332890748977661\n",
            "Training loss at step 400: 0.7774511575698853\n",
            "Training loss at step 500: 0.9620662927627563\n",
            "Training loss at step 600: 0.6637149453163147\n",
            "Training loss at step 700: 0.9691704511642456\n",
            "Training loss at step 800: 0.5481122732162476\n",
            "Training loss at step 900: 0.6642522215843201\n",
            "Training loss at step 1000: 0.7914507985115051\n",
            "Training loss at step 1100: 0.5442788600921631\n",
            "Training loss at step 1200: 0.5791060924530029\n",
            "Training loss at step 1300: 0.8581089377403259\n",
            "Training loss at step 1400: 0.5233364105224609\n",
            "Val loss at epoch 4: 0.8873718990262147\n",
            "Val acc at epoch 4: 0.6908\n",
            "Training loss at step 0: 0.9208769202232361\n",
            "Training loss at step 100: 0.5965067744255066\n",
            "Training loss at step 200: 0.42145511507987976\n",
            "Training loss at step 300: 0.5456696152687073\n",
            "Training loss at step 400: 0.9765505194664001\n",
            "Training loss at step 500: 0.6108133792877197\n",
            "Training loss at step 600: 0.652197003364563\n",
            "Training loss at step 700: 0.6503320336341858\n",
            "Training loss at step 800: 0.28958243131637573\n",
            "Training loss at step 900: 0.3352086544036865\n",
            "Training loss at step 1000: 0.2972528338432312\n",
            "Training loss at step 1100: 0.8756743669509888\n",
            "Training loss at step 1200: 0.539568305015564\n",
            "Training loss at step 1300: 0.6281862854957581\n",
            "Training loss at step 1400: 0.7763984203338623\n",
            "Val loss at epoch 5: 0.8872041516243272\n",
            "Val acc at epoch 5: 0.6982\n",
            "Training loss at step 0: 0.8022240400314331\n",
            "Training loss at step 100: 0.41802817583084106\n",
            "Training loss at step 200: 0.4954984784126282\n",
            "Training loss at step 300: 0.9995174407958984\n",
            "Training loss at step 400: 0.5577689409255981\n",
            "Training loss at step 500: 0.4067554473876953\n",
            "Training loss at step 600: 0.4733787477016449\n",
            "Training loss at step 700: 0.3057621121406555\n",
            "Training loss at step 800: 0.86806321144104\n",
            "Training loss at step 900: 0.49352020025253296\n",
            "Training loss at step 1000: 0.78725665807724\n",
            "Training loss at step 1100: 0.2984375059604645\n",
            "Training loss at step 1200: 0.4568045139312744\n",
            "Training loss at step 1300: 0.5251457691192627\n",
            "Training loss at step 1400: 0.41720813512802124\n",
            "Val loss at epoch 6: 0.8743214666084119\n",
            "Val acc at epoch 6: 0.7118\n",
            "Training loss at step 0: 0.3592070937156677\n",
            "Training loss at step 100: 0.4784783124923706\n",
            "Training loss at step 200: 0.3978453278541565\n",
            "Training loss at step 300: 0.38160932064056396\n",
            "Training loss at step 400: 0.4580097496509552\n",
            "Training loss at step 500: 0.48731303215026855\n",
            "Training loss at step 600: 0.5819113254547119\n",
            "Training loss at step 700: 0.3831266760826111\n",
            "Training loss at step 800: 0.5522248148918152\n",
            "Training loss at step 900: 0.5715097784996033\n",
            "Training loss at step 1000: 0.7014157772064209\n",
            "Training loss at step 1100: 0.584394097328186\n",
            "Training loss at step 1200: 0.4251282215118408\n",
            "Training loss at step 1300: 0.6676148176193237\n",
            "Training loss at step 1400: 0.4424304664134979\n",
            "Val loss at epoch 7: 0.9264596894288518\n",
            "Val acc at epoch 7: 0.7054\n",
            "Training loss at step 0: 0.5094504952430725\n",
            "Training loss at step 100: 0.6622428894042969\n",
            "Training loss at step 200: 0.3757491111755371\n",
            "Training loss at step 300: 0.47485029697418213\n",
            "Training loss at step 400: 0.21792727708816528\n",
            "Training loss at step 500: 0.3826303482055664\n",
            "Training loss at step 600: 0.2881065905094147\n",
            "Training loss at step 700: 0.6068357825279236\n",
            "Training loss at step 800: 0.48923259973526\n",
            "Training loss at step 900: 0.615058183670044\n",
            "Training loss at step 1000: 0.34006500244140625\n",
            "Training loss at step 1100: 0.24396741390228271\n",
            "Training loss at step 1200: 0.303977370262146\n",
            "Training loss at step 1300: 0.6139657497406006\n",
            "Training loss at step 1400: 0.426856130361557\n",
            "Val loss at epoch 8: 0.9668010845305813\n",
            "Val acc at epoch 8: 0.703\n",
            "Training loss at step 0: 0.4979584217071533\n",
            "Training loss at step 100: 0.3949905335903168\n",
            "Training loss at step 200: 0.17668505012989044\n",
            "Training loss at step 300: 0.32436925172805786\n",
            "Training loss at step 400: 0.2060045599937439\n",
            "Training loss at step 500: 0.28921976685523987\n",
            "Training loss at step 600: 0.42807844281196594\n",
            "Training loss at step 700: 0.3684273362159729\n",
            "Training loss at step 800: 0.350761741399765\n",
            "Training loss at step 900: 0.19698309898376465\n",
            "Training loss at step 1000: 0.594359278678894\n",
            "Training loss at step 1100: 0.38630157709121704\n",
            "Training loss at step 1200: 0.32307279109954834\n",
            "Training loss at step 1300: 0.32660186290740967\n",
            "Training loss at step 1400: 0.465629518032074\n",
            "Val loss at epoch 9: 1.0413138642432584\n",
            "Val acc at epoch 9: 0.6964\n"
          ]
        },
        {
          "output_type": "display_data",
          "data": {
            "image/png": "[encoded data removed]",
            "text/plain": [
              "<Figure size 432x288 with 1 Axes>"
            ]
          },
          "metadata": {
            "needs_background": "light"
          }
        },
        {
          "output_type": "display_data",
          "data": {
            "image/png": "[encoded data removed]",
            "text/plain": [
              "<Figure size 432x288 with 1 Axes>"
            ]
          },
          "metadata": {
            "needs_background": "light"
          }
        }
      ]
    },
    {
      "cell_type": "markdown",
      "metadata": {
        "id": "C5Grrt16FpB1"
      },
      "source": [
        "# Aktivácie"
      ]
    },
    {
      "cell_type": "markdown",
      "metadata": {
        "id": "NQCdX4BCcG-8"
      },
      "source": [
        "Funkcie pre budovanie modelov. Oskúšané aktivačné funkcie: Sigmoid, tanh, ELU, LeakyReLU a PReLU"
      ]
    },
    {
      "cell_type": "code",
      "metadata": {
        "id": "607eYPs4bfjy"
      },
      "source": [
        "from torch.nn import Sigmoid, Tanh, ELU, LeakyReLU, PReLU\n",
        "\n",
        "# Sigmoid\n",
        "def build_model_using_sigmoid_activation_function():\n",
        "  model = Sequential(Conv2d(3, 16, KERNEL_SIZE_CONV, 1, PADDING), MaxPool2d(MAX_POOL_KERNEL, STRIDE), Sigmoid(),\n",
        "                  Conv2d(16, 32, KERNEL_SIZE_CONV, 1, PADDING), MaxPool2d(MAX_POOL_KERNEL, STRIDE), Sigmoid(),\n",
        "                  Conv2d(32, 64, KERNEL_SIZE_CONV, 1, PADDING), MaxPool2d(MAX_POOL_KERNEL, STRIDE), Sigmoid(),\n",
        "                  Flatten(),\n",
        "                  Linear(1024, 512), Sigmoid(),\n",
        "                  Linear(512, 256), Sigmoid(),\n",
        "                  Linear(256, 128), Sigmoid(),\n",
        "                  Linear(128, 10))\n",
        "\n",
        "  model_inference = Sequential(model, Softmax())\n",
        "  return model, model_inference\n",
        "\n",
        "# Tanh\n",
        "def build_model_using_tanh_activation_function():\n",
        "  model = Sequential(Conv2d(3, 16, KERNEL_SIZE_CONV, 1, PADDING), MaxPool2d(MAX_POOL_KERNEL, STRIDE), Tanh(),\n",
        "                    Conv2d(16, 32, KERNEL_SIZE_CONV, 1, PADDING), MaxPool2d(MAX_POOL_KERNEL, STRIDE), Tanh(),\n",
        "                    Conv2d(32, 64, KERNEL_SIZE_CONV, 1, PADDING), MaxPool2d(MAX_POOL_KERNEL, STRIDE), Tanh(),\n",
        "                    Flatten(),\n",
        "                    Linear(1024, 512), Tanh(),\n",
        "                    Linear(512, 256), Tanh(),\n",
        "                    Linear(256, 128), Tanh(),\n",
        "                    Linear(128, 10))\n",
        "\n",
        "  model_inference = Sequential(model, Softmax())\n",
        "  return model, model_inference\n",
        "\n",
        "# ELU\n",
        "def build_model_using_elu_activation_function():\n",
        "  model = Sequential(Conv2d(3, 16, KERNEL_SIZE_CONV, 1, PADDING), MaxPool2d(MAX_POOL_KERNEL, STRIDE), ELU(),\n",
        "                    Conv2d(16, 32, KERNEL_SIZE_CONV, 1, PADDING), MaxPool2d(MAX_POOL_KERNEL, STRIDE), ELU(),\n",
        "                    Conv2d(32, 64, KERNEL_SIZE_CONV, 1, PADDING), MaxPool2d(MAX_POOL_KERNEL, STRIDE), ELU(),\n",
        "                    Flatten(),\n",
        "                    Linear(1024, 512), ELU(),\n",
        "                    Linear(512, 256), ELU(),\n",
        "                    Linear(256, 128), ELU(),\n",
        "                    Linear(128, 10))\n",
        "\n",
        "  model_inference = Sequential(model, Softmax())\n",
        "  return model, model_inference\n",
        "\n",
        "# LeakyReLu\n",
        "ALPHA = 0.1\n",
        "\n",
        "def build_model_using_leaky_relu_activation_function():\n",
        "  model = Sequential(Conv2d(3, 16, KERNEL_SIZE_CONV, 1, PADDING), MaxPool2d(MAX_POOL_KERNEL, STRIDE), LeakyReLU(ALPHA),\n",
        "                    Conv2d(16, 32, KERNEL_SIZE_CONV, 1, PADDING), MaxPool2d(MAX_POOL_KERNEL, STRIDE), LeakyReLU(ALPHA),\n",
        "                    Conv2d(32, 64, KERNEL_SIZE_CONV, 1, PADDING), MaxPool2d(MAX_POOL_KERNEL, STRIDE), LeakyReLU(ALPHA),\n",
        "                    Flatten(),\n",
        "                    Linear(1024, 512), LeakyReLU(ALPHA),\n",
        "                    Linear(512, 256), LeakyReLU(ALPHA),\n",
        "                    Linear(256, 128), LeakyReLU(ALPHA),\n",
        "                    Linear(128, 10))\n",
        "\n",
        "  model_inference = Sequential(model, Softmax())\n",
        "  return model, model_inference\n",
        "\n",
        "# PReLU\n",
        "def build_model_using_prelu_activation_function():\n",
        "  model = Sequential(Conv2d(3, 16, KERNEL_SIZE_CONV, 1, PADDING), MaxPool2d(MAX_POOL_KERNEL, STRIDE), PReLU(),\n",
        "                    Conv2d(16, 32, KERNEL_SIZE_CONV, 1, PADDING), MaxPool2d(MAX_POOL_KERNEL, STRIDE), PReLU(),\n",
        "                    Conv2d(32, 64, KERNEL_SIZE_CONV, 1, PADDING), MaxPool2d(MAX_POOL_KERNEL, STRIDE), PReLU(),\n",
        "                    Flatten(),\n",
        "                    Linear(1024, 512), PReLU(),\n",
        "                    Linear(512, 256), PReLU(),\n",
        "                    Linear(256, 128), PReLU(),\n",
        "                    Linear(128, 10))\n",
        "\n",
        "  model_inference = Sequential(model, Softmax())\n",
        "  return model, model_inference"
      ],
      "execution_count": null,
      "outputs": []
    },
    {
      "cell_type": "markdown",
      "metadata": {
        "id": "Cbmf-t04e_hN"
      },
      "source": [
        "Inicialializácia modelov podľa aktivačných funkcií"
      ]
    },
    {
      "cell_type": "code",
      "metadata": {
        "id": "tPnxZYYye-Mu"
      },
      "source": [
        "# Sigmoid model\n",
        "sigmoid_model, sigmoid_model_inference = build_model_using_sigmoid_activation_function()\n",
        "sigmoid_model, sigmoid_model_inference = sigmoid_model.to(device), sigmoid_model_inference.to(device)\n",
        "\n",
        "# Tanh model\n",
        "tanh_model, tanh_model_inference = build_model_using_tanh_activation_function()\n",
        "tanh_model, tanh_model_inference = tanh_model.to(device), tanh_model_inference.to(device)\n",
        "\n",
        "# ELU model\n",
        "elu_model, elu_model_inference = build_model_using_elu_activation_function()\n",
        "elu_model, elu_model_inference = elu_model.to(device), elu_model_inference.to(device)\n",
        "\n",
        "# LeakyReLu model\n",
        "leaky_relu_model, leaky_relu_model_inference = build_model_using_leaky_relu_activation_function()\n",
        "leaky_relu_model, leaky_relu_model_inference = leaky_relu_model.to(device), leaky_relu_model_inference.to(device)\n",
        "\n",
        "# PReLU model\n",
        "prelu_model, prelu_model_inference = build_model_using_prelu_activation_function()\n",
        "prelu_model, prelu_model_inference = prelu_model.to(device), prelu_model_inference.to(device)\n",
        "\n",
        "# All models\n",
        "models = [('sigmoid', sigmoid_model), ('tanh', tanh_model), ('elu', elu_model), ('leaky relu', leaky_relu_model), ('prelu', prelu_model)]"
      ],
      "execution_count": null,
      "outputs": []
    },
    {
      "cell_type": "markdown",
      "metadata": {
        "id": "PfH0R34bmNYY"
      },
      "source": [
        "Trénovanie modelov"
      ]
    },
    {
      "cell_type": "code",
      "metadata": {
        "colab": {
          "base_uri": "https://localhost:8080/",
          "height": 1000
        },
        "id": "L8ZgOXPYmMeR",
        "outputId": "972dc0fa-3a66-4327-a0c2-458b8c69b505"
      },
      "source": [
        "for activation_function_name, model in models:\n",
        "  optimizer = Adam(model.parameters(), lr=LEARNING_RATE)\n",
        "  epoch_train_losses = []\n",
        "  epoch_val_losses = []\n",
        "  epoch_val_accs = []\n",
        "\n",
        "  print(activation_function_name) \n",
        "\n",
        "  for e in range(NUMBER_OF_EPOCHS):\n",
        "    train_loss, val_loss, val_acc = one_epoch(model, ce_loss, optimizer, dataloader_train, dataloader_val, device, False)\n",
        "\n",
        "    print(\"Val loss at epoch {}: {}\".format(e, val_loss))\n",
        "    print(\"Val acc at epoch {}: {}\".format(e, val_acc))\n",
        "\n",
        "    epoch_train_losses.append(train_loss)\n",
        "    epoch_val_losses.append(val_loss)\n",
        "    epoch_val_accs.append(val_acc)\n",
        "\n",
        "  print('')\n",
        "\n",
        "  # pridat nazvy + legendy\n",
        "  plt.title('Loss: ' + activation_function_name)\n",
        "  plt.plot(epoch_train_losses, c='r')\n",
        "  plt.plot(epoch_val_losses, c='b')\n",
        "  plt.show()\n",
        "\n",
        "  plt.title('Acc: ' + activation_function_name)\n",
        "  plt.plot(epoch_val_accs, c='r')\n",
        "  plt.show()"
      ],
      "execution_count": null,
      "outputs": [
        {
          "output_type": "stream",
          "name": "stdout",
          "text": [
            "sigmoid\n",
            "Val loss at epoch 0: 2.0175520743534063\n",
            "Val acc at epoch 0: 0.2532\n",
            "Val loss at epoch 1: 1.9086950751626568\n",
            "Val acc at epoch 1: 0.3006\n",
            "Val loss at epoch 2: 1.8278964985707762\n",
            "Val acc at epoch 2: 0.3308\n",
            "Val loss at epoch 3: 1.6646716594696045\n",
            "Val acc at epoch 3: 0.4002\n",
            "Val loss at epoch 4: 1.5574748311073157\n",
            "Val acc at epoch 4: 0.442\n",
            "Val loss at epoch 5: 1.4703697072472541\n",
            "Val acc at epoch 5: 0.4666\n",
            "Val loss at epoch 6: 1.4181863544093576\n",
            "Val acc at epoch 6: 0.4874\n",
            "Val loss at epoch 7: 1.3689845758638564\n",
            "Val acc at epoch 7: 0.5054\n",
            "Val loss at epoch 8: 1.3212291484425782\n",
            "Val acc at epoch 8: 0.528\n",
            "Val loss at epoch 9: 1.3262120041118306\n",
            "Val acc at epoch 9: 0.5162\n",
            "\n"
          ]
        },
        {
          "output_type": "display_data",
          "data": {
            "image/png": "[encoded data removed]",
            "text/plain": [
              "<Figure size 432x288 with 1 Axes>"
            ]
          },
          "metadata": {
            "needs_background": "light"
          }
        },
        {
          "output_type": "display_data",
          "data": {
            "image/png": "[encoded data removed]",
            "text/plain": [
              "<Figure size 432x288 with 1 Axes>"
            ]
          },
          "metadata": {
            "needs_background": "light"
          }
        },
        {
          "output_type": "stream",
          "name": "stdout",
          "text": [
            "tanh\n",
            "Val loss at epoch 0: 1.232950543901723\n",
            "Val acc at epoch 0: 0.562\n",
            "Val loss at epoch 1: 1.0873909790045138\n",
            "Val acc at epoch 1: 0.6268\n",
            "Val loss at epoch 2: 0.9902313708499738\n",
            "Val acc at epoch 2: 0.651\n",
            "Val loss at epoch 3: 0.9547437626844758\n",
            "Val acc at epoch 3: 0.6686\n",
            "Val loss at epoch 4: 0.9094393116653345\n",
            "Val acc at epoch 4: 0.693\n",
            "Val loss at epoch 5: 0.8756923480018689\n",
            "Val acc at epoch 5: 0.7032\n",
            "Val loss at epoch 6: 0.9395679372131445\n",
            "Val acc at epoch 6: 0.6904\n",
            "Val loss at epoch 7: 0.8897289810286966\n",
            "Val acc at epoch 7: 0.707\n",
            "Val loss at epoch 8: 0.9310092643188064\n",
            "Val acc at epoch 8: 0.7156\n",
            "Val loss at epoch 9: 1.0017708507692737\n",
            "Val acc at epoch 9: 0.6998\n",
            "\n"
          ]
        },
        {
          "output_type": "display_data",
          "data": {
            "image/png": "[encoded data removed]",
            "text/plain": [
              "<Figure size 432x288 with 1 Axes>"
            ]
          },
          "metadata": {
            "needs_background": "light"
          }
        },
        {
          "output_type": "display_data",
          "data": {
            "image/png": "[encoded data removed]",
            "text/plain": [
              "<Figure size 432x288 with 1 Axes>"
            ]
          },
          "metadata": {
            "needs_background": "light"
          }
        },
        {
          "output_type": "stream",
          "name": "stdout",
          "text": [
            "elu\n",
            "Val loss at epoch 0: 1.2090489621375018\n",
            "Val acc at epoch 0: 0.5664\n",
            "Val loss at epoch 1: 1.138016583813224\n",
            "Val acc at epoch 1: 0.5902\n",
            "Val loss at epoch 2: 0.9526134156117774\n",
            "Val acc at epoch 2: 0.672\n",
            "Val loss at epoch 3: 0.9536869514520001\n",
            "Val acc at epoch 3: 0.6748\n",
            "Val loss at epoch 4: 0.8929671147826371\n",
            "Val acc at epoch 4: 0.7004\n",
            "Val loss at epoch 5: 0.8416469579289674\n",
            "Val acc at epoch 5: 0.711\n",
            "Val loss at epoch 6: 0.8758442189283432\n",
            "Val acc at epoch 6: 0.7168\n",
            "Val loss at epoch 7: 0.8833749294281006\n",
            "Val acc at epoch 7: 0.731\n",
            "Val loss at epoch 8: 0.9575112923315376\n",
            "Val acc at epoch 8: 0.7286\n",
            "Val loss at epoch 9: 1.0636247796997143\n",
            "Val acc at epoch 9: 0.7298\n",
            "\n"
          ]
        },
        {
          "output_type": "display_data",
          "data": {
            "image/png": "[encoded data removed]",
            "text/plain": [
              "<Figure size 432x288 with 1 Axes>"
            ]
          },
          "metadata": {
            "needs_background": "light"
          }
        },
        {
          "output_type": "display_data",
          "data": {
            "image/png": "[encoded data removed]",
            "text/plain": [
              "<Figure size 432x288 with 1 Axes>"
            ]
          },
          "metadata": {
            "needs_background": "light"
          }
        },
        {
          "output_type": "stream",
          "name": "stdout",
          "text": [
            "leaky relu\n",
            "Val loss at epoch 0: 1.2768197359552809\n",
            "Val acc at epoch 0: 0.5328\n",
            "Val loss at epoch 1: 0.999308770629251\n",
            "Val acc at epoch 1: 0.6444\n",
            "Val loss at epoch 2: 0.9558733770042468\n",
            "Val acc at epoch 2: 0.674\n",
            "Val loss at epoch 3: 0.9037446571383506\n",
            "Val acc at epoch 3: 0.6942\n",
            "Val loss at epoch 4: 0.861642561141093\n",
            "Val acc at epoch 4: 0.7136\n",
            "Val loss at epoch 5: 0.8095064260967219\n",
            "Val acc at epoch 5: 0.7334\n",
            "Val loss at epoch 6: 0.8316127160552201\n",
            "Val acc at epoch 6: 0.7306\n",
            "Val loss at epoch 7: 0.9256741814552598\n",
            "Val acc at epoch 7: 0.7336\n",
            "Val loss at epoch 8: 1.0418522815415814\n",
            "Val acc at epoch 8: 0.7238\n",
            "Val loss at epoch 9: 1.0957606193745972\n",
            "Val acc at epoch 9: 0.7256\n",
            "\n"
          ]
        },
        {
          "output_type": "display_data",
          "data": {
            "image/png": "[encoded data removed]",
            "text/plain": [
              "<Figure size 432x288 with 1 Axes>"
            ]
          },
          "metadata": {
            "needs_background": "light"
          }
        },
        {
          "output_type": "display_data",
          "data": {
            "image/png": "[encoded data removed]",
            "text/plain": [
              "<Figure size 432x288 with 1 Axes>"
            ]
          },
          "metadata": {
            "needs_background": "light"
          }
        },
        {
          "output_type": "stream",
          "name": "stdout",
          "text": [
            "prelu\n",
            "Val loss at epoch 0: 1.1410436690992611\n",
            "Val acc at epoch 0: 0.5898\n",
            "Val loss at epoch 1: 0.9450120067900154\n",
            "Val acc at epoch 1: 0.6628\n",
            "Val loss at epoch 2: 0.9020113933617901\n",
            "Val acc at epoch 2: 0.6972\n",
            "Val loss at epoch 3: 0.8558331409077735\n",
            "Val acc at epoch 3: 0.714\n",
            "Val loss at epoch 4: 0.8078262843903462\n",
            "Val acc at epoch 4: 0.73\n",
            "Val loss at epoch 5: 0.9363981137989433\n",
            "Val acc at epoch 5: 0.7212\n",
            "Val loss at epoch 6: 1.0788808074916245\n",
            "Val acc at epoch 6: 0.725\n",
            "Val loss at epoch 7: 1.1001111601188684\n",
            "Val acc at epoch 7: 0.7106\n",
            "Val loss at epoch 8: 1.2373809935940299\n",
            "Val acc at epoch 8: 0.7136\n",
            "Val loss at epoch 9: 1.542557108743935\n",
            "Val acc at epoch 9: 0.7136\n",
            "\n"
          ]
        },
        {
          "output_type": "display_data",
          "data": {
            "image/png": "[encoded data removed]",
            "text/plain": [
              "<Figure size 432x288 with 1 Axes>"
            ]
          },
          "metadata": {
            "needs_background": "light"
          }
        },
        {
          "output_type": "display_data",
          "data": {
            "image/png": "[encoded data removed]",
            "text/plain": [
              "<Figure size 432x288 with 1 Axes>"
            ]
          },
          "metadata": {
            "needs_background": "light"
          }
        }
      ]
    },
    {
      "cell_type": "markdown",
      "metadata": {
        "id": "V0OCX05oFu0Q"
      },
      "source": [
        "# Optimalizácia"
      ]
    },
    {
      "cell_type": "code",
      "metadata": {
        "id": "xk22HJFTLUTR"
      },
      "source": [
        "from torch.optim import SGD\n",
        "\n",
        "NUMBER_OF_OPT_EPOCHS = 10\n",
        "\n",
        "device = torch.device(\"cuda:0\" if torch.cuda.is_available() else \"cpu\")\n",
        "baseline_model, baseline_model_inference = build_model()\n",
        "baseline_model, baseline_model_inference = baseline_model.to(device), baseline_model_inference.to(device)\n",
        "\n",
        "dataloader_train = DataLoader(trainset, batch_size=BATCH_SIZE, shuffle=True)\n",
        "dataloader_val = DataLoader(valset, batch_size=BATCH_SIZE, shuffle=True)\n",
        "\n",
        "optimizers = [\n",
        "    ('SGD: lr: 0.01, momentum: 0.9', SGD(baseline_model.parameters(), lr=0.01, momentum=0.9)),\n",
        "    ('SGD: lr: 0.01, momentum: 0', SGD(baseline_model.parameters(), lr=0.01)),\n",
        "    ('SGD: lr: 0.001, momentum: 0', SGD(baseline_model.parameters(), lr=1e-3)),\n",
        "    ('SGD: lr: 0.05, momentum: 0', SGD(baseline_model.parameters(), lr=0.05)),\n",
        "]\n",
        "\n",
        "# TODO: implement me\n",
        "batch_sizes = []\n",
        "\n",
        "for optDetails, optimizerTest in optimizers:\n",
        "  \n",
        "\n",
        "  ce_loss = CrossEntropyLoss().to(device)\n",
        "  epoch_train_losses = []\n",
        "  epoch_val_losses = []\n",
        "  epoch_val_accs = []\n",
        "\n",
        "  print(optDetails) \n",
        "  print(optimizerTest)\n",
        "\n",
        "  for e in range(NUMBER_OF_OPT_EPOCHS):\n",
        "    train_loss, val_loss, val_acc = one_epoch(baseline_model, ce_loss, optimizerTest, dataloader_train, dataloader_val, device, False)\n",
        "\n",
        "    print(\"Val loss at epoch {}: {}\".format(e, val_loss))\n",
        "    print(\"Val acc at epoch {}: {}\".format(e, val_acc))\n",
        "\n",
        "    epoch_train_losses.append(train_loss)\n",
        "    epoch_val_losses.append(val_loss)\n",
        "    epoch_val_accs.append(val_acc)\n",
        "\n",
        "  print('')\n",
        "\n",
        "  # pridat nazvy + legendy\n",
        "  plt.title('Loss: ' + optDetails)\n",
        "  plt.plot(epoch_train_losses, c='r')\n",
        "  plt.plot(epoch_val_losses, c='b')\n",
        "  plt.show()\n",
        "\n",
        "  plt.title('Acc: ' + optDetails)\n",
        "  plt.plot(epoch_val_accs, c='r')\n",
        "  plt.show()\n"
      ],
      "execution_count": null,
      "outputs": []
    },
    {
      "cell_type": "markdown",
      "metadata": {
        "id": "qRxRMQBhkFk6"
      },
      "source": [
        "Batch sizes"
      ]
    },
    {
      "cell_type": "code",
      "metadata": {
        "id": "tywk23a2kE2D"
      },
      "source": [
        "batch_sizes = [10, 25, 40]\n",
        "\n",
        "for bs in batch_sizes:\n",
        "  baseline_model, baseline_model_inference = build_model()\n",
        "  baseline_model, baseline_model_inference = baseline_model.to(device), baseline_model_inference.to(device)\n",
        "  dataloader_train = DataLoader(trainset, batch_size=bs, shuffle=True)\n",
        "  dataloader_val = DataLoader(valset, batch_size=bs, shuffle=True)\n",
        "  optimizer = Adam(baseline_model.parameters(), lr=LEARNING_RATE)\n",
        "\n",
        "  ce_loss = CrossEntropyLoss().to(device)\n",
        "  epoch_train_losses = []\n",
        "  epoch_val_losses = []\n",
        "  epoch_val_accs = []\n",
        "  print('Batch size: ' + str(bs))\n",
        "\n",
        "  for e in range(NUMBER_OF_OPT_EPOCHS):\n",
        "    train_loss, val_loss, val_acc = one_epoch(baseline_model, ce_loss, optimizer, dataloader_train, dataloader_val, device, False)\n",
        "\n",
        "    print(\"Val loss at epoch {}: {}\".format(e, val_loss))\n",
        "    print(\"Val acc at epoch {}: {}\".format(e, val_acc))\n",
        "\n",
        "    epoch_train_losses.append(train_loss)\n",
        "    epoch_val_losses.append(val_loss)\n",
        "    epoch_val_accs.append(val_acc)\n",
        "\n",
        "  print('')\n",
        "\n",
        "  # pridat nazvy + legendy\n",
        "  plt.title('Loss: ' + str(bs))\n",
        "  plt.plot(epoch_train_losses, c='r')\n",
        "  plt.plot(epoch_val_losses, c='b')\n",
        "  plt.show()\n",
        "\n",
        "  plt.title('Acc: ' + str(bs))\n",
        "  plt.plot(epoch_val_accs, c='r')\n",
        "  plt.show()"
      ],
      "execution_count": null,
      "outputs": []
    },
    {
      "cell_type": "markdown",
      "metadata": {
        "id": "6hRdq4F6Fx0U"
      },
      "source": [
        "# Dropout a Augmentácia "
      ]
    },
    {
      "cell_type": "markdown",
      "metadata": {
        "id": "7sI9wwvVF54f"
      },
      "source": [
        "# Hlboká sieť (5b)"
      ]
    },
    {
      "cell_type": "markdown",
      "metadata": {
        "id": "7tOnGA-OF9ti"
      },
      "source": [
        "# Najlepší model "
      ]
    }
  ]
}