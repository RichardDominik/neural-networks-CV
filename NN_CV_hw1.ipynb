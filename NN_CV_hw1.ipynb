{
  "nbformat": 4,
  "nbformat_minor": 0,
  "metadata": {
    "colab": {
      "name": "NN-CV-hw1.ipynb",
      "provenance": [],
      "collapsed_sections": [],
      "authorship_tag": "ABX9TyOFvFoYexUU0n57Onau1Y1c",
      "include_colab_link": true
    },
    "kernelspec": {
      "name": "python3",
      "display_name": "Python 3"
    },
    "language_info": {
      "name": "python"
    },
    "accelerator": "GPU",
    "widgets": {
      "application/vnd.jupyter.widget-state+json": {
        "d33ad6c6b1474bf2808135670f8ecceb": {
          "model_module": "@jupyter-widgets/controls",
          "model_name": "HBoxModel",
          "model_module_version": "1.5.0",
          "state": {
            "_view_name": "HBoxView",
            "_dom_classes": [],
            "_model_name": "HBoxModel",
            "_view_module": "@jupyter-widgets/controls",
            "_model_module_version": "1.5.0",
            "_view_count": null,
            "_view_module_version": "1.5.0",
            "box_style": "",
            "layout": "IPY_MODEL_4e534ab26a8b42a0a7827a466d82af88",
            "_model_module": "@jupyter-widgets/controls",
            "children": [
              "IPY_MODEL_4fd268074191487ca55fbd4004359bda",
              "IPY_MODEL_19bb88be306b456f9a90d9e7943d3306",
              "IPY_MODEL_bd5a15d537c046fa980e3bd59f66ea33"
            ]
          }
        },
        "4e534ab26a8b42a0a7827a466d82af88": {
          "model_module": "@jupyter-widgets/base",
          "model_name": "LayoutModel",
          "model_module_version": "1.2.0",
          "state": {
            "_view_name": "LayoutView",
            "grid_template_rows": null,
            "right": null,
            "justify_content": null,
            "_view_module": "@jupyter-widgets/base",
            "overflow": null,
            "_model_module_version": "1.2.0",
            "_view_count": null,
            "flex_flow": null,
            "width": null,
            "min_width": null,
            "border": null,
            "align_items": null,
            "bottom": null,
            "_model_module": "@jupyter-widgets/base",
            "top": null,
            "grid_column": null,
            "overflow_y": null,
            "overflow_x": null,
            "grid_auto_flow": null,
            "grid_area": null,
            "grid_template_columns": null,
            "flex": null,
            "_model_name": "LayoutModel",
            "justify_items": null,
            "grid_row": null,
            "max_height": null,
            "align_content": null,
            "visibility": null,
            "align_self": null,
            "height": null,
            "min_height": null,
            "padding": null,
            "grid_auto_rows": null,
            "grid_gap": null,
            "max_width": null,
            "order": null,
            "_view_module_version": "1.2.0",
            "grid_template_areas": null,
            "object_position": null,
            "object_fit": null,
            "grid_auto_columns": null,
            "margin": null,
            "display": null,
            "left": null
          }
        },
        "4fd268074191487ca55fbd4004359bda": {
          "model_module": "@jupyter-widgets/controls",
          "model_name": "HTMLModel",
          "model_module_version": "1.5.0",
          "state": {
            "_view_name": "HTMLView",
            "style": "IPY_MODEL_082968f43e7742d9bfc58e3b1f57ad8f",
            "_dom_classes": [],
            "description": "",
            "_model_name": "HTMLModel",
            "placeholder": "​",
            "_view_module": "@jupyter-widgets/controls",
            "_model_module_version": "1.5.0",
            "value": "",
            "_view_count": null,
            "_view_module_version": "1.5.0",
            "description_tooltip": null,
            "_model_module": "@jupyter-widgets/controls",
            "layout": "IPY_MODEL_6571d1043d7e429a9e0e80506d1bb660"
          }
        },
        "19bb88be306b456f9a90d9e7943d3306": {
          "model_module": "@jupyter-widgets/controls",
          "model_name": "FloatProgressModel",
          "model_module_version": "1.5.0",
          "state": {
            "_view_name": "ProgressView",
            "style": "IPY_MODEL_eb8f3aad5cfd4efaa77a7d238093597f",
            "_dom_classes": [],
            "description": "",
            "_model_name": "FloatProgressModel",
            "bar_style": "success",
            "max": 170498071,
            "_view_module": "@jupyter-widgets/controls",
            "_model_module_version": "1.5.0",
            "value": 170498071,
            "_view_count": null,
            "_view_module_version": "1.5.0",
            "orientation": "horizontal",
            "min": 0,
            "description_tooltip": null,
            "_model_module": "@jupyter-widgets/controls",
            "layout": "IPY_MODEL_d347be3f5b704b14a2124a0ecc523c46"
          }
        },
        "bd5a15d537c046fa980e3bd59f66ea33": {
          "model_module": "@jupyter-widgets/controls",
          "model_name": "HTMLModel",
          "model_module_version": "1.5.0",
          "state": {
            "_view_name": "HTMLView",
            "style": "IPY_MODEL_c53bdc6232b74becb9413cc0840d32aa",
            "_dom_classes": [],
            "description": "",
            "_model_name": "HTMLModel",
            "placeholder": "​",
            "_view_module": "@jupyter-widgets/controls",
            "_model_module_version": "1.5.0",
            "value": " 170499072/? [00:03&lt;00:00, 55478022.00it/s]",
            "_view_count": null,
            "_view_module_version": "1.5.0",
            "description_tooltip": null,
            "_model_module": "@jupyter-widgets/controls",
            "layout": "IPY_MODEL_3be653efc8d841278a85a81ac9455a30"
          }
        },
        "082968f43e7742d9bfc58e3b1f57ad8f": {
          "model_module": "@jupyter-widgets/controls",
          "model_name": "DescriptionStyleModel",
          "model_module_version": "1.5.0",
          "state": {
            "_view_name": "StyleView",
            "_model_name": "DescriptionStyleModel",
            "description_width": "",
            "_view_module": "@jupyter-widgets/base",
            "_model_module_version": "1.5.0",
            "_view_count": null,
            "_view_module_version": "1.2.0",
            "_model_module": "@jupyter-widgets/controls"
          }
        },
        "6571d1043d7e429a9e0e80506d1bb660": {
          "model_module": "@jupyter-widgets/base",
          "model_name": "LayoutModel",
          "model_module_version": "1.2.0",
          "state": {
            "_view_name": "LayoutView",
            "grid_template_rows": null,
            "right": null,
            "justify_content": null,
            "_view_module": "@jupyter-widgets/base",
            "overflow": null,
            "_model_module_version": "1.2.0",
            "_view_count": null,
            "flex_flow": null,
            "width": null,
            "min_width": null,
            "border": null,
            "align_items": null,
            "bottom": null,
            "_model_module": "@jupyter-widgets/base",
            "top": null,
            "grid_column": null,
            "overflow_y": null,
            "overflow_x": null,
            "grid_auto_flow": null,
            "grid_area": null,
            "grid_template_columns": null,
            "flex": null,
            "_model_name": "LayoutModel",
            "justify_items": null,
            "grid_row": null,
            "max_height": null,
            "align_content": null,
            "visibility": null,
            "align_self": null,
            "height": null,
            "min_height": null,
            "padding": null,
            "grid_auto_rows": null,
            "grid_gap": null,
            "max_width": null,
            "order": null,
            "_view_module_version": "1.2.0",
            "grid_template_areas": null,
            "object_position": null,
            "object_fit": null,
            "grid_auto_columns": null,
            "margin": null,
            "display": null,
            "left": null
          }
        },
        "eb8f3aad5cfd4efaa77a7d238093597f": {
          "model_module": "@jupyter-widgets/controls",
          "model_name": "ProgressStyleModel",
          "model_module_version": "1.5.0",
          "state": {
            "_view_name": "StyleView",
            "_model_name": "ProgressStyleModel",
            "description_width": "",
            "_view_module": "@jupyter-widgets/base",
            "_model_module_version": "1.5.0",
            "_view_count": null,
            "_view_module_version": "1.2.0",
            "bar_color": null,
            "_model_module": "@jupyter-widgets/controls"
          }
        },
        "d347be3f5b704b14a2124a0ecc523c46": {
          "model_module": "@jupyter-widgets/base",
          "model_name": "LayoutModel",
          "model_module_version": "1.2.0",
          "state": {
            "_view_name": "LayoutView",
            "grid_template_rows": null,
            "right": null,
            "justify_content": null,
            "_view_module": "@jupyter-widgets/base",
            "overflow": null,
            "_model_module_version": "1.2.0",
            "_view_count": null,
            "flex_flow": null,
            "width": null,
            "min_width": null,
            "border": null,
            "align_items": null,
            "bottom": null,
            "_model_module": "@jupyter-widgets/base",
            "top": null,
            "grid_column": null,
            "overflow_y": null,
            "overflow_x": null,
            "grid_auto_flow": null,
            "grid_area": null,
            "grid_template_columns": null,
            "flex": null,
            "_model_name": "LayoutModel",
            "justify_items": null,
            "grid_row": null,
            "max_height": null,
            "align_content": null,
            "visibility": null,
            "align_self": null,
            "height": null,
            "min_height": null,
            "padding": null,
            "grid_auto_rows": null,
            "grid_gap": null,
            "max_width": null,
            "order": null,
            "_view_module_version": "1.2.0",
            "grid_template_areas": null,
            "object_position": null,
            "object_fit": null,
            "grid_auto_columns": null,
            "margin": null,
            "display": null,
            "left": null
          }
        },
        "c53bdc6232b74becb9413cc0840d32aa": {
          "model_module": "@jupyter-widgets/controls",
          "model_name": "DescriptionStyleModel",
          "model_module_version": "1.5.0",
          "state": {
            "_view_name": "StyleView",
            "_model_name": "DescriptionStyleModel",
            "description_width": "",
            "_view_module": "@jupyter-widgets/base",
            "_model_module_version": "1.5.0",
            "_view_count": null,
            "_view_module_version": "1.2.0",
            "_model_module": "@jupyter-widgets/controls"
          }
        },
        "3be653efc8d841278a85a81ac9455a30": {
          "model_module": "@jupyter-widgets/base",
          "model_name": "LayoutModel",
          "model_module_version": "1.2.0",
          "state": {
            "_view_name": "LayoutView",
            "grid_template_rows": null,
            "right": null,
            "justify_content": null,
            "_view_module": "@jupyter-widgets/base",
            "overflow": null,
            "_model_module_version": "1.2.0",
            "_view_count": null,
            "flex_flow": null,
            "width": null,
            "min_width": null,
            "border": null,
            "align_items": null,
            "bottom": null,
            "_model_module": "@jupyter-widgets/base",
            "top": null,
            "grid_column": null,
            "overflow_y": null,
            "overflow_x": null,
            "grid_auto_flow": null,
            "grid_area": null,
            "grid_template_columns": null,
            "flex": null,
            "_model_name": "LayoutModel",
            "justify_items": null,
            "grid_row": null,
            "max_height": null,
            "align_content": null,
            "visibility": null,
            "align_self": null,
            "height": null,
            "min_height": null,
            "padding": null,
            "grid_auto_rows": null,
            "grid_gap": null,
            "max_width": null,
            "order": null,
            "_view_module_version": "1.2.0",
            "grid_template_areas": null,
            "object_position": null,
            "object_fit": null,
            "grid_auto_columns": null,
            "margin": null,
            "display": null,
            "left": null
          }
        }
      }
    }
  },
  "cells": [
    {
      "cell_type": "markdown",
      "metadata": {
        "id": "view-in-github",
        "colab_type": "text"
      },
      "source": [
        "<a href=\"https://colab.research.google.com/github/RichardDominik/neural-networks-CV/blob/master/NN_CV_hw1.ipynb\" target=\"_parent\"><img src=\"https://colab.research.google.com/assets/colab-badge.svg\" alt=\"Open In Colab\"/></a>"
      ]
    },
    {
      "cell_type": "markdown",
      "metadata": {
        "id": "wHDkZ69f_KyA"
      },
      "source": [
        "# Domáca úloha č. 1 "
      ]
    },
    {
      "cell_type": "code",
      "metadata": {
        "id": "MUPS5Y3y_XKe"
      },
      "source": [
        "import torch\n",
        "import torchvision\n",
        "import torchvision.transforms as transforms\n",
        "\n",
        "import numpy as np\n",
        "from matplotlib import pyplot as plt"
      ],
      "execution_count": 1,
      "outputs": []
    },
    {
      "cell_type": "markdown",
      "metadata": {
        "id": "u04NhHcxCyjP"
      },
      "source": [
        "Načítanie datasetu Cifar 10"
      ]
    },
    {
      "cell_type": "code",
      "metadata": {
        "colab": {
          "base_uri": "https://localhost:8080/",
          "height": 100,
          "referenced_widgets": [
            "d33ad6c6b1474bf2808135670f8ecceb",
            "4e534ab26a8b42a0a7827a466d82af88",
            "4fd268074191487ca55fbd4004359bda",
            "19bb88be306b456f9a90d9e7943d3306",
            "bd5a15d537c046fa980e3bd59f66ea33",
            "082968f43e7742d9bfc58e3b1f57ad8f",
            "6571d1043d7e429a9e0e80506d1bb660",
            "eb8f3aad5cfd4efaa77a7d238093597f",
            "d347be3f5b704b14a2124a0ecc523c46",
            "c53bdc6232b74becb9413cc0840d32aa",
            "3be653efc8d841278a85a81ac9455a30"
          ]
        },
        "id": "PK25uyxYDQIq",
        "outputId": "3cb040a7-9494-460d-d36d-0f50ed7bd0da"
      },
      "source": [
        "classes = ('plane', 'car', 'bird', 'cat', 'deer', 'dog', 'frog', 'horse', 'ship', 'truck')\n",
        "transform = transforms.ToTensor()\n",
        "generator = torch.Generator().manual_seed(42)\n",
        "\n",
        "dataset = torchvision.datasets.CIFAR10(root='./data', train=True, download=True, transform=transform)\n",
        "testset = torchvision.datasets.CIFAR10(root='./data', train=False, download=True, transform=transform)\n",
        "\n",
        "trainset, valset = torch.utils.data.random_split(dataset, [45000, 5000], generator=generator)"
      ],
      "execution_count": 2,
      "outputs": [
        {
          "output_type": "stream",
          "name": "stdout",
          "text": [
            "Downloading https://www.cs.toronto.edu/~kriz/cifar-10-python.tar.gz to ./data/cifar-10-python.tar.gz\n"
          ]
        },
        {
          "output_type": "display_data",
          "data": {
            "application/vnd.jupyter.widget-view+json": {
              "model_id": "d33ad6c6b1474bf2808135670f8ecceb",
              "version_minor": 0,
              "version_major": 2
            },
            "text/plain": [
              "  0%|          | 0/170498071 [00:00<?, ?it/s]"
            ]
          },
          "metadata": {}
        },
        {
          "output_type": "stream",
          "name": "stdout",
          "text": [
            "Extracting ./data/cifar-10-python.tar.gz to ./data\n",
            "Files already downloaded and verified\n"
          ]
        }
      ]
    },
    {
      "cell_type": "markdown",
      "metadata": {
        "id": "x77krmxEExWm"
      },
      "source": [
        "Zobrazenie obrázkov z datasetu"
      ]
    },
    {
      "cell_type": "code",
      "metadata": {
        "colab": {
          "base_uri": "https://localhost:8080/",
          "height": 549
        },
        "id": "_9fRvxtUE0DA",
        "outputId": "0f6d64d0-d409-4c2f-b1e8-43ab4a2eb96d"
      },
      "source": [
        "previewloader = torch.utils.data.DataLoader(testset, batch_size=1, shuffle=True)\n",
        "\n",
        "for i, sample in enumerate(previewloader):\n",
        "  if i > 1:\n",
        "    break\n",
        "  x, y = sample\n",
        "  img = np.moveaxis(x.numpy()[0], 0, -1)\n",
        "  plt.imshow(img)\n",
        "  plt.show()\n",
        "  print(classes[y.item()])"
      ],
      "execution_count": 3,
      "outputs": [
        {
          "output_type": "display_data",
          "data": {
            "image/png": "[encoded data removed]",
            "text/plain": [
              "<Figure size 432x288 with 1 Axes>"
            ]
          },
          "metadata": {
            "needs_background": "light"
          }
        },
        {
          "output_type": "stream",
          "name": "stdout",
          "text": [
            "horse\n"
          ]
        },
        {
          "output_type": "display_data",
          "data": {
            "image/png": "[encoded data removed]",
            "text/plain": [
              "<Figure size 432x288 with 1 Axes>"
            ]
          },
          "metadata": {
            "needs_background": "light"
          }
        },
        {
          "output_type": "stream",
          "name": "stdout",
          "text": [
            "deer\n"
          ]
        }
      ]
    },
    {
      "cell_type": "markdown",
      "metadata": {
        "id": "6E53SFrcFmd-"
      },
      "source": [
        "# Základný model"
      ]
    },
    {
      "cell_type": "code",
      "metadata": {
        "colab": {
          "base_uri": "https://localhost:8080/",
          "height": 1000
        },
        "id": "k0SI8tbwFsyI",
        "outputId": "019aaa54-52e3-42de-bbe5-2c40c24ebd2f"
      },
      "source": [
        "from torch.nn import Sequential, Linear, ReLU, Softmax, Conv2d, MaxPool2d, Flatten, CrossEntropyLoss\n",
        "from torch.optim import Adam\n",
        "from torch.utils.data import DataLoader\n",
        "\n",
        "# skusit velkost kernelu 5 \n",
        "KERNEL_SIZE_CONV = 3\n",
        "BATCH_SIZE = 32\n",
        "LEARNING_RATE = 1e-3\n",
        "#viac ako X epoch overfitting\n",
        "NUMBER_OF_EPOCHS = 10\n",
        "\n",
        "device = torch.device(\"cuda:0\" if torch.cuda.is_available() else \"cpu\")\n",
        "\n",
        "model, model_inference = build_model()\n",
        "model, model_inference = model.to(device), model_inference.to(device)\n",
        "\n",
        "dataloader_train = DataLoader(trainset, batch_size=BATCH_SIZE, shuffle=True)\n",
        "dataloader_val = DataLoader(valset, batch_size=BATCH_SIZE, shuffle=True)\n",
        "\n",
        "ce_loss = CrossEntropyLoss().to(device)\n",
        "optimizer = Adam(model.parameters(), lr=LEARNING_RATE)\n",
        "\n",
        "epoch_train_losses = []\n",
        "epoch_val_losses = []\n",
        "epoch_val_accs = []\n",
        "\n",
        "def build_model():\n",
        "  model = Sequential(Conv2d(3, 32, KERNEL_SIZE_CONV), MaxPool2d(2), ReLU(), \n",
        "                    Conv2d(32, 64, KERNEL_SIZE_CONV), MaxPool2d(2), ReLU(),\n",
        "                    Conv2d(64, 128, KERNEL_SIZE_CONV), MaxPool2d(2), ReLU(),\n",
        "                    Flatten(), \n",
        "                    Linear(512, 256), ReLU(), Linear(256, 128), ReLU(),\n",
        "                    Linear(128, 10))\n",
        "\n",
        "  # dim=1\n",
        "  model_inference = Sequential(model, Softmax())\n",
        "  return model, model_inference\n",
        "\n",
        "# model, model_inference = build_model()\n",
        "# model_inference(torch.from_numpy(np.zeros([1, 3, 32, 32], dtype=np.float32)))\n",
        "\n",
        "def one_epoch(model, loss, optimizer, dataloader_train, dataloader_val, device, verbose=True):\n",
        "  train_losses = []\n",
        "  val_losses = []\n",
        "\n",
        "  model.train()\n",
        "\n",
        "  for i, batch in enumerate(dataloader_train):  \n",
        "    x, y = batch[0].to(device), batch[1].to(device) \n",
        "    optimizer.zero_grad()\n",
        "\n",
        "    out = model(x)\n",
        "    loss = ce_loss(out, y)\n",
        "    loss.backward()\n",
        "    train_losses.append(loss.item())\n",
        "    optimizer.step()\n",
        "    if i % 100 == 0 and verbose:\n",
        "      print(\"Training loss at step {}: {}\".format(i, loss.item()))\n",
        "\n",
        "  model.eval()\n",
        "\n",
        "  with torch.no_grad():\n",
        "    correct = 0\n",
        "    total = 0\n",
        "    for i, batch in enumerate(dataloader_val):  \n",
        "      x, y = batch[0].to(device), batch[1].to(device)  \n",
        "\n",
        "      out = model(x)\n",
        "      loss = ce_loss(out, y)\n",
        "      acc = torch.sum(torch.argmax(out, dim=-1) == y)\n",
        "      correct += acc.item()\n",
        "      total += len(batch[1])\n",
        "      val_losses.append(loss.item())\n",
        "\n",
        "  val_acc = correct / total\n",
        "\n",
        "  return np.mean(train_losses), np.mean(val_losses), val_acc\n",
        "\n",
        "for e in range(NUMBER_OF_EPOCHS):\n",
        "  train_loss, val_loss, val_acc = one_epoch(model, ce_loss, optimizer, dataloader_train, dataloader_val, device)\n",
        "\n",
        "  print(\"Val loss at epoch {}: {}\".format(e, val_loss))\n",
        "  print(\"Val acc at epoch {}: {}\".format(e, val_acc))\n",
        "\n",
        "  epoch_train_losses.append(train_loss)\n",
        "  epoch_val_losses.append(val_loss)\n",
        "  epoch_val_accs.append(val_acc)\n",
        "\n",
        "# pridat nazvy + legendy\n",
        "plt.plot(epoch_train_losses, c='r')\n",
        "plt.plot(epoch_val_losses, c='b')\n",
        "plt.show()\n",
        "\n",
        "plt.plot(epoch_val_accs, c='r')\n",
        "plt.show()"
      ],
      "execution_count": null,
      "outputs": [
        {
          "output_type": "stream",
          "name": "stdout",
          "text": [
            "Training loss at step 0: 2.2993857860565186\n",
            "Training loss at step 100: 1.9624378681182861\n",
            "Training loss at step 200: 2.089033365249634\n",
            "Training loss at step 300: 2.0501952171325684\n",
            "Training loss at step 400: 1.7849929332733154\n",
            "Training loss at step 500: 1.5414044857025146\n",
            "Training loss at step 600: 1.7329238653182983\n",
            "Training loss at step 700: 1.4485498666763306\n",
            "Training loss at step 800: 1.4178111553192139\n",
            "Training loss at step 900: 1.4663822650909424\n",
            "Training loss at step 1000: 1.4433159828186035\n",
            "Training loss at step 1100: 1.6722463369369507\n",
            "Training loss at step 1200: 1.4790551662445068\n",
            "Training loss at step 1300: 1.4964038133621216\n",
            "Training loss at step 1400: 1.4591305255889893\n",
            "Val loss at epoch 0: 1.3990589942142462\n",
            "Val acc at epoch 0: 0.4926\n",
            "Training loss at step 0: 1.2751961946487427\n",
            "Training loss at step 100: 1.4159200191497803\n",
            "Training loss at step 200: 1.3973661661148071\n",
            "Training loss at step 300: 1.2777090072631836\n",
            "Training loss at step 400: 1.180396556854248\n",
            "Training loss at step 500: 1.1263587474822998\n",
            "Training loss at step 600: 1.3261170387268066\n",
            "Training loss at step 700: 1.3125970363616943\n",
            "Training loss at step 800: 1.3318458795547485\n",
            "Training loss at step 900: 1.4761649370193481\n",
            "Training loss at step 1000: 1.07987642288208\n",
            "Training loss at step 1100: 1.263939380645752\n",
            "Training loss at step 1200: 1.3413100242614746\n",
            "Training loss at step 1300: 0.7937173843383789\n",
            "Training loss at step 1400: 1.0987646579742432\n",
            "Val loss at epoch 1: 1.204620710224103\n",
            "Val acc at epoch 1: 0.567\n",
            "Training loss at step 0: 0.9109534621238708\n",
            "Training loss at step 100: 0.8522927165031433\n",
            "Training loss at step 200: 0.8246623277664185\n",
            "Training loss at step 300: 1.271817922592163\n",
            "Training loss at step 400: 1.396105408668518\n",
            "Training loss at step 500: 1.426405668258667\n",
            "Training loss at step 600: 1.045494556427002\n",
            "Training loss at step 700: 1.109102487564087\n",
            "Training loss at step 800: 0.9908158183097839\n",
            "Training loss at step 900: 0.963789701461792\n",
            "Training loss at step 1000: 0.9234057664871216\n",
            "Training loss at step 1100: 1.152522087097168\n",
            "Training loss at step 1200: 1.0725412368774414\n",
            "Training loss at step 1300: 0.8611907362937927\n",
            "Training loss at step 1400: 0.6520692706108093\n",
            "Val loss at epoch 2: 1.0454364678092822\n",
            "Val acc at epoch 2: 0.622\n",
            "Training loss at step 0: 0.902931272983551\n",
            "Training loss at step 100: 1.0748591423034668\n",
            "Training loss at step 200: 1.0954246520996094\n",
            "Training loss at step 300: 0.8127387166023254\n",
            "Training loss at step 400: 1.12675142288208\n",
            "Training loss at step 500: 1.072483777999878\n",
            "Training loss at step 600: 0.8167583346366882\n",
            "Training loss at step 700: 1.0916987657546997\n",
            "Training loss at step 800: 0.9719187021255493\n",
            "Training loss at step 900: 1.0753977298736572\n",
            "Training loss at step 1000: 0.7835184335708618\n",
            "Training loss at step 1100: 1.1381146907806396\n",
            "Training loss at step 1200: 1.2127984762191772\n",
            "Training loss at step 1300: 0.8804287314414978\n",
            "Training loss at step 1400: 0.9807124137878418\n",
            "Val loss at epoch 3: 0.9761516715690588\n",
            "Val acc at epoch 3: 0.6526\n",
            "Training loss at step 0: 0.8943966627120972\n",
            "Training loss at step 100: 1.005179524421692\n",
            "Training loss at step 200: 0.8673114776611328\n",
            "Training loss at step 300: 0.7324832081794739\n",
            "Training loss at step 400: 1.1187044382095337\n",
            "Training loss at step 500: 1.1775214672088623\n",
            "Training loss at step 600: 1.1696664094924927\n",
            "Training loss at step 700: 0.9787963628768921\n",
            "Training loss at step 800: 0.5268383026123047\n",
            "Training loss at step 900: 0.8624241352081299\n",
            "Training loss at step 1000: 0.7152215242385864\n",
            "Training loss at step 1100: 0.7162119150161743\n",
            "Training loss at step 1200: 1.0427846908569336\n",
            "Training loss at step 1300: 1.0655508041381836\n",
            "Training loss at step 1400: 0.9059667587280273\n",
            "Val loss at epoch 4: 0.9381117566375975\n",
            "Val acc at epoch 4: 0.6658\n",
            "Training loss at step 0: 0.9879651069641113\n",
            "Training loss at step 100: 0.8587244153022766\n",
            "Training loss at step 200: 0.9575170874595642\n",
            "Training loss at step 300: 0.7060043215751648\n",
            "Training loss at step 400: 0.578701913356781\n",
            "Training loss at step 500: 1.0452152490615845\n",
            "Training loss at step 600: 0.9338926672935486\n",
            "Training loss at step 700: 0.7071691155433655\n",
            "Training loss at step 800: 1.1994121074676514\n",
            "Training loss at step 900: 1.359472393989563\n",
            "Training loss at step 1000: 0.7653641700744629\n",
            "Training loss at step 1100: 0.37574440240859985\n",
            "Training loss at step 1200: 0.8488645553588867\n",
            "Training loss at step 1300: 1.1875172853469849\n",
            "Training loss at step 1400: 0.6702666282653809\n",
            "Val loss at epoch 5: 0.8837306776623817\n",
            "Val acc at epoch 5: 0.6864\n",
            "Training loss at step 0: 0.43600693345069885\n",
            "Training loss at step 100: 0.8298563361167908\n",
            "Training loss at step 200: 0.5877307653427124\n",
            "Training loss at step 300: 0.5128242373466492\n",
            "Training loss at step 400: 0.7711778879165649\n",
            "Training loss at step 500: 0.932465672492981\n",
            "Training loss at step 600: 0.713058590888977\n",
            "Training loss at step 700: 1.1095572710037231\n",
            "Training loss at step 800: 0.6975497007369995\n",
            "Training loss at step 900: 0.6654704213142395\n",
            "Training loss at step 1000: 0.8970755338668823\n",
            "Training loss at step 1100: 1.045790195465088\n",
            "Training loss at step 1200: 1.150848388671875\n",
            "Training loss at step 1300: 0.6376950144767761\n",
            "Training loss at step 1400: 0.5756145715713501\n",
            "Val loss at epoch 6: 0.8874952168601333\n",
            "Val acc at epoch 6: 0.6928\n",
            "Training loss at step 0: 0.8662225008010864\n",
            "Training loss at step 100: 0.38233229517936707\n",
            "Training loss at step 200: 0.5182415246963501\n",
            "Training loss at step 300: 0.5543379187583923\n",
            "Training loss at step 400: 0.7002473473548889\n",
            "Training loss at step 500: 0.4717869162559509\n",
            "Training loss at step 600: 0.8151721358299255\n",
            "Training loss at step 700: 0.7437503337860107\n",
            "Training loss at step 800: 0.45599403977394104\n",
            "Training loss at step 900: 0.8110449314117432\n",
            "Training loss at step 1000: 0.5242406725883484\n",
            "Training loss at step 1100: 0.6567610502243042\n",
            "Training loss at step 1200: 0.3545304238796234\n",
            "Training loss at step 1300: 0.49342960119247437\n",
            "Training loss at step 1400: 0.5440807938575745\n",
            "Val loss at epoch 7: 0.8726602610509107\n",
            "Val acc at epoch 7: 0.7008\n",
            "Training loss at step 0: 0.3573271334171295\n",
            "Training loss at step 100: 0.3213225305080414\n",
            "Training loss at step 200: 0.7651466131210327\n",
            "Training loss at step 300: 0.6350381374359131\n",
            "Training loss at step 400: 0.7853535413742065\n",
            "Training loss at step 500: 0.6911068558692932\n",
            "Training loss at step 600: 0.618908166885376\n",
            "Training loss at step 700: 0.8543720245361328\n",
            "Training loss at step 800: 0.468765527009964\n",
            "Training loss at step 900: 0.8660350441932678\n",
            "Training loss at step 1000: 0.520457923412323\n",
            "Training loss at step 1200: 0.8848655223846436\n",
            "Training loss at step 1300: 0.4102570116519928\n",
            "Training loss at step 1400: 0.6861629486083984\n",
            "Val loss at epoch 8: 0.8848003532476486\n",
            "Val acc at epoch 8: 0.6982\n",
            "Training loss at step 0: 0.6289952397346497\n",
            "Training loss at step 100: 0.8421878218650818\n",
            "Training loss at step 200: 0.4492342174053192\n",
            "Training loss at step 300: 0.4690210223197937\n",
            "Training loss at step 400: 0.6985204815864563\n",
            "Training loss at step 500: 0.40399619936943054\n",
            "Training loss at step 600: 0.7909247875213623\n",
            "Training loss at step 700: 0.44062313437461853\n",
            "Training loss at step 800: 0.8387582302093506\n",
            "Training loss at step 900: 0.671737790107727\n",
            "Training loss at step 1000: 0.5677582621574402\n",
            "Training loss at step 1100: 0.38822099566459656\n",
            "Training loss at step 1200: 0.7414708733558655\n",
            "Training loss at step 1300: 0.6999000310897827\n",
            "Training loss at step 1400: 0.6944831609725952\n",
            "Val loss at epoch 9: 0.8765278868614488\n",
            "Val acc at epoch 9: 0.7086\n"
          ]
        },
        {
          "output_type": "display_data",
          "data": {
            "image/png": "[encoded data removed]",
            "text/plain": [
              "<Figure size 432x288 with 1 Axes>"
            ]
          },
          "metadata": {
            "needs_background": "light"
          }
        },
        {
          "output_type": "display_data",
          "data": {
            "image/png": "[encoded data removed]",
            "text/plain": [
              "<Figure size 432x288 with 1 Axes>"
            ]
          },
          "metadata": {
            "needs_background": "light"
          }
        }
      ]
    },
    {
      "cell_type": "code",
      "metadata": {
        "id": "PbqiRZ4FCm2i"
      },
      "source": [
        "# Komentar k predchadajuzemu modelu \n",
        "\n",
        "# vstupom je obrazok 32x32 \n",
        "\n",
        "# Conv2d(3, 32, KERNEL_SIZE_CONV)\n",
        "# pocet vstup kanalov RGB, pocet vyst kanalov volime si samostatne, kernel size\n",
        "# torch.Size([32, 32, 30, 30])\n",
        "# batch_size, pocet vyst kanalov, vyska obrazka, sirka obrazka \n",
        "\n",
        "# MaxPool2d(2)\n",
        "# velkost poolingu 2x2 a stride je 1 \n",
        "# torch.Size([32, 32, 15, 15])\n",
        "\n",
        "# ReLU()\n",
        "# torch.Size([32, 32, 15, 15])\n",
        "\n",
        "# Conv2d(32, 64, KERNEL_SIZE_CONV)\n",
        "# pocet vstup kanalov z predchadz vsrvy je 32, pocet vyst kanalov volime si samostatne, kernel size\n",
        "# torch.Size([32, 64, 13, 13])\n",
        "\n",
        "# MaxPool2d(2)\n",
        "# torch.Size([32, 64, 6, 6])\n",
        "\n",
        "# ReLU()\n",
        "# torch.Size([32, 64, 6, 6])\n",
        "\n",
        "# Conv2d(64, 128, KERNEL_SIZE_CONV)\n",
        "# pocet vstup kanalov z predchadz vsrvy je 64, pocet vyst kanalov volime si samostatne, kernel size\n",
        "# torch.Size([32, 128, 4, 4])\n",
        "\n",
        "# MaxPool2d(2)\n",
        "# torch.Size([32, 128, 2, 2])\n",
        "\n",
        "# ReLU()\n",
        "# torch.Size([32, 128, 2, 2])\n",
        "\n",
        "# Flatten()\n",
        "# toto bude 128 * 2 * 2] \n",
        "# torch.Size([32, 512])\n",
        "\n",
        "# in_features, out_features\n",
        "# Linear(512, 256)\n",
        "# torch.Size([32, 256])\n",
        "\n",
        "# ReLU()\n",
        "# torch.Size([32, 256])\n",
        "# torch.Size([32, 256])\n",
        "\n",
        "# Linear(256, 128), ReLU(), Linear(128, 10)\n",
        "# torch.Size([32, 10])"
      ],
      "execution_count": null,
      "outputs": []
    },
    {
      "cell_type": "markdown",
      "metadata": {
        "id": "QgZ7_vEZYFvm"
      },
      "source": [
        "Upraveny zakladny model"
      ]
    },
    {
      "cell_type": "code",
      "metadata": {
        "id": "jIExiLLUu_w9",
        "outputId": "a0185570-8384-4f32-ae5f-4c01054e3a44",
        "colab": {
          "base_uri": "https://localhost:8080/",
          "height": 1000
        }
      },
      "source": [
        "from torch.nn import Sequential, Linear, ReLU, Softmax, Conv2d, MaxPool2d, AdaptiveAvgPool2d, CrossEntropyLoss\n",
        "from torch.optim import Adam\n",
        "from torch.utils.data import DataLoader\n",
        "\n",
        "KERNEL_SIZE_CONV = 3\n",
        "STRIDE = 2\n",
        "PADDING = 1\n",
        "MAX_POOL_KERNEL = 2\n",
        "BATCH_SIZE = 32\n",
        "LEARNING_RATE = 1e-3\n",
        "# viac ako 10 epoch overfitting\n",
        "NUMBER_OF_EPOCHS = 10\n",
        "\n",
        "device = torch.device(\"cuda:0\" if torch.cuda.is_available() else \"cpu\")\n",
        "\n",
        "\n",
        "def build_model():\n",
        "  model = Sequential(Conv2d(3, 16, KERNEL_SIZE_CONV, 1, PADDING), MaxPool2d(MAX_POOL_KERNEL, STRIDE), ReLU(),\n",
        "                    Conv2d(16, 32, KERNEL_SIZE_CONV, 1, PADDING), MaxPool2d(MAX_POOL_KERNEL, STRIDE), ReLU(),\n",
        "                    Conv2d(32, 64, KERNEL_SIZE_CONV, 1, PADDING), MaxPool2d(MAX_POOL_KERNEL, STRIDE), ReLU(),\n",
        "                    Flatten(),\n",
        "                    Linear(1024, 512), ReLU(),\n",
        "                    Linear(512, 256), ReLU(),\n",
        "                    Linear(256, 128), ReLU(),\n",
        "                    Linear(128, 10))\n",
        "                    \n",
        "              \n",
        "  # dim=1\n",
        "  model_inference = Sequential(model, Softmax())\n",
        "  return model, model_inference\n",
        "\n",
        "\n",
        "model, model_inference = build_model()\n",
        "model, model_inference = model.to(device), model_inference.to(device)\n",
        "\n",
        "dataloader_train = DataLoader(trainset, batch_size=BATCH_SIZE, shuffle=True)\n",
        "dataloader_val = DataLoader(valset, batch_size=BATCH_SIZE, shuffle=True)\n",
        "\n",
        "ce_loss = CrossEntropyLoss().to(device)\n",
        "optimizer = Adam(model.parameters(), lr=LEARNING_RATE)\n",
        "\n",
        "epoch_train_losses = []\n",
        "epoch_val_losses = []\n",
        "epoch_val_accs = []\n",
        "\n",
        "def one_epoch(model, loss, optimizer, dataloader_train, dataloader_val, device, verbose=True):\n",
        "  train_losses = []\n",
        "  val_losses = []\n",
        "\n",
        "  model.train()\n",
        "\n",
        "  for i, batch in enumerate(dataloader_train):  \n",
        "    # i hovori o tom ktora davka\n",
        "   \n",
        "    # x je obrazok \n",
        "    # y je trieda do ktorej obr patri\n",
        "    x, y = batch[0].to(device), batch[1].to(device) \n",
        "    optimizer.zero_grad()\n",
        "\n",
        "    out = model(x)\n",
        "    # print(out.shape)\n",
        "\n",
        "    loss = ce_loss(out, y)\n",
        "    loss.backward()\n",
        "    train_losses.append(loss.item())\n",
        "    optimizer.step()\n",
        "    if i % 100 == 0 and verbose:\n",
        "      print(\"Training loss at step {}: {}\".format(i, loss.item()))\n",
        "\n",
        "  model.eval()\n",
        "\n",
        "  with torch.no_grad():\n",
        "    correct = 0\n",
        "    total = 0\n",
        "    for i, batch in enumerate(dataloader_val):  \n",
        "      x, y = batch[0].to(device), batch[1].to(device)  \n",
        "\n",
        "      out = model(x)\n",
        "      loss = ce_loss(out, y)\n",
        "      acc = torch.sum(torch.argmax(out, dim=-1) == y)\n",
        "      correct += acc.item()\n",
        "      total += len(batch[1])\n",
        "      val_losses.append(loss.item())\n",
        "\n",
        "  val_acc = correct / total\n",
        "\n",
        "  return np.mean(train_losses), np.mean(val_losses), val_acc\n",
        "\n",
        "for e in range(NUMBER_OF_EPOCHS):\n",
        "  train_loss, val_loss, val_acc = one_epoch(model, ce_loss, optimizer, dataloader_train, dataloader_val, device)\n",
        "\n",
        "  print(\"Val loss at epoch {}: {}\".format(e, val_loss))\n",
        "  print(\"Val acc at epoch {}: {}\".format(e, val_acc))\n",
        "\n",
        "  epoch_train_losses.append(train_loss)\n",
        "  epoch_val_losses.append(val_loss)\n",
        "  epoch_val_accs.append(val_acc)\n",
        "\n",
        "# pridat nazvy + legendy\n",
        "plt.plot(epoch_train_losses, c='r')\n",
        "plt.plot(epoch_val_losses, c='b')\n",
        "plt.show()\n",
        "\n",
        "plt.plot(epoch_val_accs, c='r')\n",
        "plt.show()"
      ],
      "execution_count": 120,
      "outputs": [
        {
          "output_type": "stream",
          "name": "stdout",
          "text": [
            "Training loss at step 0: 2.297420024871826\n",
            "Training loss at step 100: 2.2181379795074463\n",
            "Training loss at step 200: 1.9149549007415771\n",
            "Training loss at step 300: 1.7831155061721802\n",
            "Training loss at step 400: 1.4955263137817383\n",
            "Training loss at step 500: 1.7423698902130127\n",
            "Training loss at step 600: 1.6294238567352295\n",
            "Training loss at step 700: 1.4351621866226196\n",
            "Training loss at step 800: 1.7311707735061646\n",
            "Training loss at step 900: 1.6699156761169434\n",
            "Training loss at step 1000: 1.5067824125289917\n",
            "Training loss at step 1100: 1.519534707069397\n",
            "Training loss at step 1200: 1.537575364112854\n",
            "Training loss at step 1300: 1.03423273563385\n",
            "Training loss at step 1400: 1.188095211982727\n",
            "Val loss at epoch 0: 1.3209943919424798\n",
            "Val acc at epoch 0: 0.5136\n",
            "Training loss at step 0: 1.3051217794418335\n",
            "Training loss at step 100: 1.0473295450210571\n",
            "Training loss at step 200: 1.3996354341506958\n",
            "Training loss at step 300: 1.22638738155365\n",
            "Training loss at step 400: 1.318013310432434\n",
            "Training loss at step 500: 1.0724408626556396\n",
            "Training loss at step 600: 1.1281839609146118\n",
            "Training loss at step 700: 1.108298897743225\n",
            "Training loss at step 800: 1.0760594606399536\n",
            "Training loss at step 900: 1.3167943954467773\n",
            "Training loss at step 1000: 1.2556123733520508\n",
            "Training loss at step 1100: 0.8960568904876709\n",
            "Training loss at step 1200: 0.9874137043952942\n",
            "Training loss at step 1300: 0.910463273525238\n",
            "Training loss at step 1400: 0.8230687379837036\n",
            "Val loss at epoch 1: 1.1896555454108366\n",
            "Val acc at epoch 1: 0.585\n",
            "Training loss at step 0: 1.003163456916809\n",
            "Training loss at step 100: 1.309615969657898\n",
            "Training loss at step 200: 1.0600426197052002\n",
            "Training loss at step 300: 0.9705389738082886\n",
            "Training loss at step 400: 0.9585200548171997\n",
            "Training loss at step 500: 0.8229192495346069\n",
            "Training loss at step 600: 0.7001878023147583\n",
            "Training loss at step 700: 1.041751503944397\n",
            "Training loss at step 800: 0.7267452478408813\n",
            "Training loss at step 900: 1.1210339069366455\n",
            "Training loss at step 1000: 1.2146714925765991\n",
            "Training loss at step 1100: 0.9291480779647827\n",
            "Training loss at step 1200: 1.0281238555908203\n",
            "Training loss at step 1300: 1.022286295890808\n",
            "Training loss at step 1400: 0.977815568447113\n",
            "Val loss at epoch 2: 0.9776305563890251\n",
            "Val acc at epoch 2: 0.6514\n",
            "Training loss at step 0: 0.6781626343727112\n",
            "Training loss at step 100: 1.3086268901824951\n",
            "Training loss at step 200: 1.1332988739013672\n",
            "Training loss at step 300: 1.1180038452148438\n",
            "Training loss at step 400: 0.9004443883895874\n",
            "Training loss at step 500: 1.08125901222229\n",
            "Training loss at step 600: 0.8615421652793884\n",
            "Training loss at step 700: 1.3612937927246094\n",
            "Training loss at step 800: 1.0374304056167603\n",
            "Training loss at step 900: 1.167967438697815\n",
            "Training loss at step 1000: 0.6877233982086182\n",
            "Training loss at step 1100: 0.43247556686401367\n",
            "Training loss at step 1200: 0.7439553737640381\n",
            "Training loss at step 1300: 1.111660361289978\n",
            "Training loss at step 1400: 1.0118268728256226\n",
            "Val loss at epoch 3: 0.9273194919346245\n",
            "Val acc at epoch 3: 0.6756\n",
            "Training loss at step 0: 0.6104410886764526\n",
            "Training loss at step 100: 0.9918088912963867\n",
            "Training loss at step 200: 0.709294855594635\n",
            "Training loss at step 300: 0.7566218376159668\n",
            "Training loss at step 400: 0.7696754932403564\n",
            "Training loss at step 500: 0.7031144499778748\n",
            "Training loss at step 600: 0.7532151341438293\n",
            "Training loss at step 700: 0.7304268479347229\n",
            "Training loss at step 800: 0.903070867061615\n",
            "Training loss at step 900: 0.8372379541397095\n",
            "Training loss at step 1000: 0.5042340159416199\n",
            "Training loss at step 1100: 0.9509693384170532\n",
            "Training loss at step 1200: 0.615276038646698\n",
            "Training loss at step 1300: 0.6989274621009827\n",
            "Training loss at step 1400: 0.6708825826644897\n",
            "Val loss at epoch 4: 0.9974010936014212\n",
            "Val acc at epoch 4: 0.6618\n",
            "Training loss at step 0: 0.828001856803894\n",
            "Training loss at step 100: 0.6515219211578369\n",
            "Training loss at step 200: 0.735825777053833\n",
            "Training loss at step 300: 0.8509753942489624\n",
            "Training loss at step 400: 0.6688461303710938\n",
            "Training loss at step 500: 0.699022650718689\n",
            "Training loss at step 600: 0.7712188959121704\n",
            "Training loss at step 700: 0.5778840184211731\n",
            "Training loss at step 800: 0.5507340431213379\n",
            "Training loss at step 900: 0.7229915857315063\n",
            "Training loss at step 1000: 1.0438510179519653\n",
            "Training loss at step 1100: 0.6877224445343018\n",
            "Training loss at step 1200: 1.180200219154358\n",
            "Training loss at step 1300: 0.8417500853538513\n",
            "Training loss at step 1400: 0.9616261124610901\n",
            "Val loss at epoch 5: 0.8631491011874691\n",
            "Val acc at epoch 5: 0.7024\n",
            "Training loss at step 0: 0.6539629697799683\n",
            "Training loss at step 100: 0.6261252760887146\n",
            "Training loss at step 200: 0.5977827906608582\n",
            "Training loss at step 300: 0.32995057106018066\n",
            "Training loss at step 400: 0.7546243667602539\n",
            "Training loss at step 500: 0.833648145198822\n",
            "Training loss at step 600: 0.5522857904434204\n",
            "Training loss at step 700: 0.6505476832389832\n",
            "Training loss at step 800: 0.66446453332901\n",
            "Training loss at step 900: 0.8058471083641052\n",
            "Training loss at step 1000: 0.38449862599372864\n",
            "Training loss at step 1100: 0.7022590041160583\n",
            "Training loss at step 1200: 0.4209693670272827\n",
            "Training loss at step 1400: 0.9433151483535767\n",
            "Val loss at epoch 6: 0.899477281957675\n",
            "Val acc at epoch 6: 0.7044\n",
            "Training loss at step 0: 0.3123587965965271\n",
            "Training loss at step 100: 0.4499987065792084\n",
            "Training loss at step 200: 0.56288743019104\n",
            "Training loss at step 300: 0.7842005491256714\n",
            "Training loss at step 400: 0.29656437039375305\n",
            "Training loss at step 500: 0.7420745491981506\n",
            "Training loss at step 600: 0.5773497223854065\n",
            "Training loss at step 700: 0.4135678708553314\n",
            "Training loss at step 800: 0.48853087425231934\n",
            "Training loss at step 900: 0.4808480143547058\n",
            "Training loss at step 1000: 0.6503316760063171\n",
            "Training loss at step 1100: 0.5868632793426514\n",
            "Training loss at step 1200: 0.356934130191803\n",
            "Training loss at step 1300: 0.5333783626556396\n",
            "Training loss at step 1400: 0.5824957489967346\n",
            "Val loss at epoch 7: 0.9339772975368864\n",
            "Val acc at epoch 7: 0.691\n",
            "Training loss at step 0: 0.47508111596107483\n",
            "Training loss at step 100: 0.3441145122051239\n",
            "Training loss at step 200: 0.25631582736968994\n",
            "Training loss at step 300: 0.3619956076145172\n",
            "Training loss at step 400: 0.5370104908943176\n",
            "Training loss at step 500: 0.4809158742427826\n",
            "Training loss at step 600: 0.5286684036254883\n",
            "Training loss at step 700: 0.7380735278129578\n",
            "Training loss at step 800: 0.3862324357032776\n",
            "Training loss at step 900: 0.4136490821838379\n",
            "Training loss at step 1000: 0.3927842676639557\n",
            "Training loss at step 1100: 0.3894367218017578\n",
            "Training loss at step 1200: 0.4231148064136505\n",
            "Training loss at step 1300: 0.7977062463760376\n",
            "Training loss at step 1400: 0.4516224265098572\n",
            "Val loss at epoch 8: 0.9185455359850719\n",
            "Val acc at epoch 8: 0.7038\n",
            "Training loss at step 0: 0.45419472455978394\n",
            "Training loss at step 100: 0.3507829010486603\n",
            "Training loss at step 200: 0.4867604076862335\n",
            "Training loss at step 300: 0.39220964908599854\n",
            "Training loss at step 400: 0.3345657289028168\n",
            "Training loss at step 500: 0.2755488455295563\n",
            "Training loss at step 600: 0.39067453145980835\n",
            "Training loss at step 700: 0.2999386191368103\n",
            "Training loss at step 800: 0.3819550573825836\n",
            "Training loss at step 900: 0.26138585805892944\n",
            "Training loss at step 1000: 0.5857327580451965\n",
            "Training loss at step 1100: 0.31754931807518005\n",
            "Training loss at step 1200: 0.6896752715110779\n",
            "Training loss at step 1300: 0.6167351603507996\n",
            "Training loss at step 1400: 0.5660690069198608\n",
            "Val loss at epoch 9: 0.9834624221370478\n",
            "Val acc at epoch 9: 0.703\n"
          ]
        },
        {
          "output_type": "display_data",
          "data": {
            "image/png": "[encoded data removed]",
            "text/plain": [
              "<Figure size 432x288 with 1 Axes>"
            ]
          },
          "metadata": {
            "needs_background": "light"
          }
        },
        {
          "output_type": "display_data",
          "data": {
            "image/png": "[encoded data removed]",
            "text/plain": [
              "<Figure size 432x288 with 1 Axes>"
            ]
          },
          "metadata": {
            "needs_background": "light"
          }
        }
      ]
    },
    {
      "cell_type": "markdown",
      "metadata": {
        "id": "C5Grrt16FpB1"
      },
      "source": [
        "# Aktivácie"
      ]
    },
    {
      "cell_type": "markdown",
      "metadata": {
        "id": "NQCdX4BCcG-8"
      },
      "source": [
        "Funkcie pre budovanie modelov. Oskúšané aktivačné funkcie: Sigmoid, tanh, ELU, LeakyReLU a PReLU"
      ]
    },
    {
      "cell_type": "code",
      "metadata": {
        "id": "607eYPs4bfjy"
      },
      "source": [
        "from torch.nn import Sigmoid, Tanh, ELU, LeakyReLU, PReLU\n",
        "\n",
        "# Sigmoid\n",
        "def build_model_using_sigmoid_activation_function():\n",
        "  model = Sequential(Conv2d(3, 32, KERNEL_SIZE_CONV), MaxPool2d(2), Sigmoid(), \n",
        "                    Conv2d(32, 64, KERNEL_SIZE_CONV), MaxPool2d(2), Sigmoid(),\n",
        "                    Conv2d(64, 128, KERNEL_SIZE_CONV), MaxPool2d(2), Sigmoid(),\n",
        "                    Flatten(), \n",
        "                    Linear(512, 256), Sigmoid(), Linear(256, 128), Sigmoid(),\n",
        "                    Linear(128, 10))\n",
        "\n",
        "  model_inference = Sequential(model, Softmax())\n",
        "  return model, model_inference\n",
        "\n",
        "# Tanh\n",
        "def build_model_using_tanh_activation_function():\n",
        "  model = Sequential(Conv2d(3, 32, KERNEL_SIZE_CONV), MaxPool2d(2), Tanh(), \n",
        "                  Conv2d(32, 64, KERNEL_SIZE_CONV), MaxPool2d(2), Tanh(),\n",
        "                  Conv2d(64, 128, KERNEL_SIZE_CONV), MaxPool2d(2), Tanh(),\n",
        "                  Flatten(), \n",
        "                  Linear(512, 256), Tanh(), Linear(256, 128), Tanh(),\n",
        "                  Linear(128, 10))\n",
        "\n",
        "  model_inference = Sequential(model, Softmax())\n",
        "  return model, model_inference\n",
        "\n",
        "# ELU\n",
        "def build_model_using_elu_activation_function():\n",
        "  model = Sequential(Conv2d(3, 32, KERNEL_SIZE_CONV), MaxPool2d(2), ELU(), \n",
        "                  Conv2d(32, 64, KERNEL_SIZE_CONV), MaxPool2d(2), ELU(),\n",
        "                  Conv2d(64, 128, KERNEL_SIZE_CONV), MaxPool2d(2), ELU(),\n",
        "                  Flatten(), \n",
        "                  Linear(512, 256), ELU(), Linear(256, 128), ELU(),\n",
        "                  Linear(128, 10))\n",
        "\n",
        "  model_inference = Sequential(model, Softmax())\n",
        "  return model, model_inference\n",
        "\n",
        "# LeakyReLu\n",
        "ALPHA = 0.1\n",
        "\n",
        "def build_model_using_leaky_relu_activation_function():\n",
        "  model = Sequential(Conv2d(3, 32, KERNEL_SIZE_CONV), MaxPool2d(2), LeakyReLU(ALPHA), \n",
        "                  Conv2d(32, 64, KERNEL_SIZE_CONV), MaxPool2d(2), LeakyReLU(ALPHA),\n",
        "                  Conv2d(64, 128, KERNEL_SIZE_CONV), MaxPool2d(2), LeakyReLU(ALPHA),\n",
        "                  Flatten(), \n",
        "                  Linear(512, 256), LeakyReLU(ALPHA), Linear(256, 128), LeakyReLU(ALPHA),\n",
        "                  Linear(128, 10))\n",
        "\n",
        "  model_inference = Sequential(model, Softmax())\n",
        "  return model, model_inference\n",
        "\n",
        "# PReLU\n",
        "def build_model_using_prelu_activation_function():\n",
        "  model = Sequential(Conv2d(3, 32, KERNEL_SIZE_CONV), MaxPool2d(2), PReLU(), \n",
        "                  Conv2d(32, 64, KERNEL_SIZE_CONV), MaxPool2d(2), PReLU(),\n",
        "                  Conv2d(64, 128, KERNEL_SIZE_CONV), MaxPool2d(2), PReLU(),\n",
        "                  Flatten(), \n",
        "                  Linear(512, 256), PReLU(), Linear(256, 128), PReLU(),\n",
        "                  Linear(128, 10))\n",
        "\n",
        "  model_inference = Sequential(model, Softmax())\n",
        "  return model, model_inference"
      ],
      "execution_count": null,
      "outputs": []
    },
    {
      "cell_type": "markdown",
      "metadata": {
        "id": "Cbmf-t04e_hN"
      },
      "source": [
        "Inicialializácia modelov podľa aktivačných funkcií"
      ]
    },
    {
      "cell_type": "code",
      "metadata": {
        "id": "tPnxZYYye-Mu"
      },
      "source": [
        "# Sigmoid model\n",
        "sigmoid_model, sigmoid_model_inference = build_model_using_sigmoid_activation_function()\n",
        "sigmoid_model, sigmoid_model_inference = sigmoid_model.to(device), sigmoid_model_inference.to(device)\n",
        "\n",
        "# Tanh model\n",
        "tanh_model, tanh_model_inference = build_model_using_tanh_activation_function()\n",
        "tanh_model, tanh_model_inference = tanh_model.to(device), tanh_model_inference.to(device)\n",
        "\n",
        "# ELU model\n",
        "elu_model, elu_model_inference = build_model_using_elu_activation_function()\n",
        "elu_model, elu_model_inference = elu_model.to(device), elu_model_inference.to(device)\n",
        "\n",
        "# LeakyReLu model\n",
        "leaky_relu_model, leaky_relu_model_inference = build_model_using_leaky_relu_activation_function()\n",
        "leaky_relu_model, leaky_relu_model_inference = leaky_relu_model.to(device), leaky_relu_model_inference.to(device)\n",
        "\n",
        "# PReLU model\n",
        "prelu_model, prelu_model_inference = build_model_using_prelu_activation_function()\n",
        "prelu_model, prelu_model_inference = prelu_model.to(device), prelu_model_inference.to(device)\n",
        "\n",
        "# All models\n",
        "models = [('sigmoid', sigmoid_model), ('tanh', tanh_model), ('elu', elu_model), ('leaky relu', leaky_relu_model), ('prelu', prelu_model)]"
      ],
      "execution_count": null,
      "outputs": []
    },
    {
      "cell_type": "markdown",
      "metadata": {
        "id": "PfH0R34bmNYY"
      },
      "source": [
        "Trénovanie modelov"
      ]
    },
    {
      "cell_type": "code",
      "metadata": {
        "colab": {
          "base_uri": "https://localhost:8080/",
          "height": 1000
        },
        "id": "L8ZgOXPYmMeR",
        "outputId": "455432b5-95dd-4fbe-bdd9-a13937f67c3e"
      },
      "source": [
        "for activation_function_name, model in models:\n",
        "  optimizer = Adam(model.parameters(), lr=LEARNING_RATE)\n",
        "  epoch_train_losses = []\n",
        "  epoch_val_losses = []\n",
        "  epoch_val_accs = []\n",
        "\n",
        "  print(activation_function_name) \n",
        "\n",
        "  for e in range(NUMBER_OF_EPOCHS):\n",
        "    train_loss, val_loss, val_acc = one_epoch(model, ce_loss, optimizer, dataloader_train, dataloader_val, device, False)\n",
        "\n",
        "    print(\"Val loss at epoch {}: {}\".format(e, val_loss))\n",
        "    print(\"Val acc at epoch {}: {}\".format(e, val_acc))\n",
        "\n",
        "    epoch_train_losses.append(train_loss)\n",
        "    epoch_val_losses.append(val_loss)\n",
        "    epoch_val_accs.append(val_acc)\n",
        "\n",
        "  print('')\n",
        "\n",
        "  # pridat nazvy + legendy\n",
        "  plt.title('Loss: ' + activation_function_name)\n",
        "  plt.plot(epoch_train_losses, c='r')\n",
        "  plt.plot(epoch_val_losses, c='b')\n",
        "  plt.show()\n",
        "\n",
        "  plt.title('Acc: ' + activation_function_name)\n",
        "  plt.plot(epoch_val_accs, c='r')\n",
        "  plt.show()"
      ],
      "execution_count": null,
      "outputs": [
        {
          "output_type": "stream",
          "name": "stdout",
          "text": [
            "sigmoid\n",
            "Val loss at epoch 0: 1.94623713812251\n",
            "Val acc at epoch 0: 0.2652\n",
            "Val loss at epoch 1: 1.8008255776326367\n",
            "Val acc at epoch 1: 0.3352\n",
            "Val loss at epoch 2: 1.6758446997138345\n",
            "Val acc at epoch 2: 0.3828\n",
            "Val loss at epoch 3: 1.6270160409295635\n",
            "Val acc at epoch 3: 0.4126\n",
            "Val loss at epoch 4: 1.5443251599931413\n",
            "Val acc at epoch 4: 0.4346\n",
            "Val loss at epoch 6: 1.4303521753116777\n",
            "Val acc at epoch 6: 0.4804\n",
            "Val loss at epoch 7: 1.4398744197408104\n",
            "Val acc at epoch 7: 0.4844\n",
            "Val loss at epoch 8: 1.3322594465723463\n",
            "Val acc at epoch 8: 0.5192\n",
            "Val loss at epoch 9: 1.305718781462141\n",
            "Val acc at epoch 9: 0.529\n",
            "\n"
          ]
        },
        {
          "output_type": "display_data",
          "data": {
            "image/png": "[encoded data removed]",
            "text/plain": [
              "<Figure size 432x288 with 1 Axes>"
            ]
          },
          "metadata": {
            "needs_background": "light"
          }
        },
        {
          "output_type": "display_data",
          "data": {
            "image/png": "[encoded data removed]",
            "text/plain": [
              "<Figure size 432x288 with 1 Axes>"
            ]
          },
          "metadata": {
            "needs_background": "light"
          }
        },
        {
          "output_type": "stream",
          "name": "stdout",
          "text": [
            "tanh\n",
            "Val loss at epoch 0: 1.2939503652274988\n",
            "Val acc at epoch 0: 0.5338\n",
            "Val loss at epoch 1: 1.0863164997404549\n",
            "Val acc at epoch 1: 0.6186\n",
            "Val loss at epoch 2: 1.0028489976172235\n",
            "Val acc at epoch 2: 0.6464\n",
            "Val loss at epoch 3: 0.9574195590748149\n",
            "Val acc at epoch 3: 0.6642\n",
            "Val loss at epoch 4: 0.9485750982336177\n",
            "Val acc at epoch 4: 0.673\n",
            "Val loss at epoch 5: 0.9265735242397163\n",
            "Val acc at epoch 5: 0.6888\n",
            "Val loss at epoch 6: 0.9702455445080046\n",
            "Val acc at epoch 6: 0.679\n",
            "Val loss at epoch 7: 1.0605720854868554\n",
            "Val acc at epoch 7: 0.6694\n",
            "Val loss at epoch 8: 1.0714067273838506\n",
            "Val acc at epoch 8: 0.6748\n",
            "Val loss at epoch 9: 1.1298872915802487\n",
            "Val acc at epoch 9: 0.6744\n",
            "\n"
          ]
        },
        {
          "output_type": "display_data",
          "data": {
            "image/png": "[encoded data removed]",
            "text/plain": [
              "<Figure size 432x288 with 1 Axes>"
            ]
          },
          "metadata": {
            "needs_background": "light"
          }
        },
        {
          "output_type": "display_data",
          "data": {
            "image/png": "[encoded data removed]",
            "text/plain": [
              "<Figure size 432x288 with 1 Axes>"
            ]
          },
          "metadata": {
            "needs_background": "light"
          }
        },
        {
          "output_type": "stream",
          "name": "stdout",
          "text": [
            "elu\n",
            "Val loss at epoch 0: 1.193674233309023\n",
            "Val acc at epoch 0: 0.5792\n",
            "Val loss at epoch 1: 1.0315287217592737\n",
            "Val acc at epoch 1: 0.638\n",
            "Val loss at epoch 2: 0.9352865549409466\n",
            "Val acc at epoch 2: 0.6728\n",
            "Val loss at epoch 3: 0.8633876606157631\n",
            "Val acc at epoch 3: 0.6942\n",
            "Val loss at epoch 4: 0.8551683930834387\n",
            "Val acc at epoch 4: 0.7116\n",
            "Val loss at epoch 5: 0.8650295411705211\n",
            "Val acc at epoch 5: 0.715\n",
            "Val loss at epoch 6: 0.9363221400862287\n",
            "Val acc at epoch 6: 0.7212\n",
            "Val loss at epoch 7: 1.0117640766748197\n",
            "Val acc at epoch 7: 0.7108\n",
            "Val loss at epoch 8: 1.0305766157663552\n",
            "Val acc at epoch 8: 0.715\n",
            "Val loss at epoch 9: 1.1715147547471296\n",
            "Val acc at epoch 9: 0.7162\n",
            "\n"
          ]
        },
        {
          "output_type": "display_data",
          "data": {
            "image/png": "[encoded data removed]",
            "text/plain": [
              "<Figure size 432x288 with 1 Axes>"
            ]
          },
          "metadata": {
            "needs_background": "light"
          }
        },
        {
          "output_type": "display_data",
          "data": {
            "image/png": "[encoded data removed]",
            "text/plain": [
              "<Figure size 432x288 with 1 Axes>"
            ]
          },
          "metadata": {
            "needs_background": "light"
          }
        },
        {
          "output_type": "stream",
          "name": "stdout",
          "text": [
            "leaky relu\n",
            "Val loss at epoch 0: 1.273857979637802\n",
            "Val acc at epoch 0: 0.5446\n",
            "Val loss at epoch 1: 1.0132088706751539\n",
            "Val acc at epoch 1: 0.6374\n",
            "Val loss at epoch 2: 0.8697055496607616\n",
            "Val acc at epoch 2: 0.6938\n",
            "Val loss at epoch 3: 0.8450689412605991\n",
            "Val acc at epoch 3: 0.7042\n",
            "Val loss at epoch 4: 0.8148482831040765\n",
            "Val acc at epoch 4: 0.7244\n",
            "Val loss at epoch 5: 0.8232100235808427\n",
            "Val acc at epoch 5: 0.7296\n",
            "Val loss at epoch 6: 0.857180145325934\n",
            "Val acc at epoch 6: 0.7256\n",
            "Val loss at epoch 7: 0.8992859382348456\n",
            "Val acc at epoch 7: 0.728\n",
            "Val loss at epoch 8: 0.9934115397512533\n",
            "Val acc at epoch 8: 0.7226\n",
            "Val loss at epoch 9: 1.0309615735984912\n",
            "Val acc at epoch 9: 0.721\n",
            "\n"
          ]
        },
        {
          "output_type": "display_data",
          "data": {
            "image/png": "[encoded data removed]",
            "text/plain": [
              "<Figure size 432x288 with 1 Axes>"
            ]
          },
          "metadata": {
            "needs_background": "light"
          }
        },
        {
          "output_type": "display_data",
          "data": {
            "image/png": "[encoded data removed]",
            "text/plain": [
              "<Figure size 432x288 with 1 Axes>"
            ]
          },
          "metadata": {
            "needs_background": "light"
          }
        },
        {
          "output_type": "stream",
          "name": "stdout",
          "text": [
            "prelu\n",
            "Val loss at epoch 0: 1.253687753419208\n",
            "Val acc at epoch 0: 0.5496\n",
            "Val loss at epoch 1: 0.9896623325196041\n",
            "Val acc at epoch 1: 0.6458\n",
            "Val loss at epoch 2: 1.0014011704238357\n",
            "Val acc at epoch 2: 0.6462\n",
            "Val loss at epoch 3: 0.9011879574721027\n",
            "Val acc at epoch 3: 0.6776\n",
            "Val loss at epoch 4: 0.8685538292310799\n",
            "Val acc at epoch 4: 0.6982\n",
            "Val loss at epoch 5: 0.8760734709205141\n",
            "Val acc at epoch 5: 0.704\n",
            "Val loss at epoch 6: 0.8730589897389625\n",
            "Val acc at epoch 6: 0.7206\n",
            "Val loss at epoch 7: 0.9767076303814627\n",
            "Val acc at epoch 7: 0.72\n",
            "Val loss at epoch 8: 1.0294043047792594\n",
            "Val acc at epoch 8: 0.7204\n",
            "Val loss at epoch 9: 1.104599603042481\n",
            "Val acc at epoch 9: 0.7286\n",
            "\n"
          ]
        },
        {
          "output_type": "display_data",
          "data": {
            "image/png": "[encoded data removed]",
            "text/plain": [
              "<Figure size 432x288 with 1 Axes>"
            ]
          },
          "metadata": {
            "needs_background": "light"
          }
        },
        {
          "output_type": "display_data",
          "data": {
            "image/png": "[encoded data removed]",
            "text/plain": [
              "<Figure size 432x288 with 1 Axes>"
            ]
          },
          "metadata": {
            "needs_background": "light"
          }
        }
      ]
    },
    {
      "cell_type": "markdown",
      "metadata": {
        "id": "V0OCX05oFu0Q"
      },
      "source": [
        "# Optimalizácia"
      ]
    },
    {
      "cell_type": "markdown",
      "metadata": {
        "id": "6hRdq4F6Fx0U"
      },
      "source": [
        "# Dropout a Augmentácia "
      ]
    },
    {
      "cell_type": "markdown",
      "metadata": {
        "id": "7sI9wwvVF54f"
      },
      "source": [
        "# Hlboká sieť (5b)"
      ]
    },
    {
      "cell_type": "markdown",
      "metadata": {
        "id": "7tOnGA-OF9ti"
      },
      "source": [
        "# Najlepší model "
      ]
    }
  ]
}