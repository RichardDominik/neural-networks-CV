{
  "nbformat": 4,
  "nbformat_minor": 0,
  "metadata": {
    "colab": {
      "name": "NN-CV-hw1.ipynb",
      "provenance": [],
      "collapsed_sections": [],
      "authorship_tag": "ABX9TyPVufEEH1kUlonEbWr2Lp+u",
      "include_colab_link": true
    },
    "kernelspec": {
      "name": "python3",
      "display_name": "Python 3"
    },
    "language_info": {
      "name": "python"
    },
    "accelerator": "GPU"
  },
  "cells": [
    {
      "cell_type": "markdown",
      "metadata": {
        "id": "view-in-github",
        "colab_type": "text"
      },
      "source": [
        "<a href=\"https://colab.research.google.com/github/RichardDominik/neural-networks-CV/blob/master/NN_CV_hw1.ipynb\" target=\"_parent\"><img src=\"https://colab.research.google.com/assets/colab-badge.svg\" alt=\"Open In Colab\"/></a>"
      ]
    },
    {
      "cell_type": "markdown",
      "metadata": {
        "id": "wHDkZ69f_KyA"
      },
      "source": [
        "# Domáca úloha č. 1 "
      ]
    },
    {
      "cell_type": "code",
      "metadata": {
        "id": "MUPS5Y3y_XKe"
      },
      "source": [
        "import torch\n",
        "import torchvision\n",
        "import torchvision.transforms as transforms\n",
        "\n",
        "import numpy as np\n",
        "from matplotlib import pyplot as plt"
      ],
      "execution_count": 10,
      "outputs": []
    },
    {
      "cell_type": "markdown",
      "metadata": {
        "id": "u04NhHcxCyjP"
      },
      "source": [
        "Načítanie datasetu Cifar 10"
      ]
    },
    {
      "cell_type": "code",
      "metadata": {
        "colab": {
          "base_uri": "https://localhost:8080/"
        },
        "id": "PK25uyxYDQIq",
        "outputId": "2cc42742-1951-4c94-bf4a-a6cce6b3c4e7"
      },
      "source": [
        "classes = ('plane', 'car', 'bird', 'cat', 'deer', 'dog', 'frog', 'horse', 'ship', 'truck')\n",
        "transform = transforms.ToTensor()\n",
        "generator = torch.Generator().manual_seed(42)\n",
        "\n",
        "dataset = torchvision.datasets.CIFAR10(root='./data', train=True, download=True, transform=transform)\n",
        "testset = torchvision.datasets.CIFAR10(root='./data', train=False, download=True, transform=transform)\n",
        "\n",
        "trainset, valset = torch.utils.data.random_split(dataset, [45000, 5000], generator=generator)"
      ],
      "execution_count": 11,
      "outputs": [
        {
          "output_type": "stream",
          "name": "stdout",
          "text": [
            "Files already downloaded and verified\n",
            "Files already downloaded and verified\n"
          ]
        }
      ]
    },
    {
      "cell_type": "markdown",
      "metadata": {
        "id": "x77krmxEExWm"
      },
      "source": [
        "Zobrazenie obrázkov z datasetu"
      ]
    },
    {
      "cell_type": "code",
      "metadata": {
        "colab": {
          "base_uri": "https://localhost:8080/",
          "height": 549
        },
        "id": "_9fRvxtUE0DA",
        "outputId": "165ebc90-47ed-443d-9dd8-06ab91ae34d6"
      },
      "source": [
        "previewloader = torch.utils.data.DataLoader(testset, batch_size=1, shuffle=True)\n",
        "\n",
        "for i, sample in enumerate(previewloader):\n",
        "  if i > 1:\n",
        "    break\n",
        "  x, y = sample\n",
        "  img = np.moveaxis(x.numpy()[0], 0, -1)\n",
        "  plt.imshow(img)\n",
        "  plt.show()\n",
        "  print(classes[y.item()])"
      ],
      "execution_count": 12,
      "outputs": [
        {
          "output_type": "display_data",
          "data": {
            "image/png": "[encoded data removed]",
            "text/plain": [
              "<Figure size 432x288 with 1 Axes>"
            ]
          },
          "metadata": {
            "needs_background": "light"
          }
        },
        {
          "output_type": "stream",
          "name": "stdout",
          "text": [
            "car\n"
          ]
        },
        {
          "output_type": "display_data",
          "data": {
            "image/png": "[encoded data removed]",
            "text/plain": [
              "<Figure size 432x288 with 1 Axes>"
            ]
          },
          "metadata": {
            "needs_background": "light"
          }
        },
        {
          "output_type": "stream",
          "name": "stdout",
          "text": [
            "ship\n"
          ]
        }
      ]
    },
    {
      "cell_type": "markdown",
      "metadata": {
        "id": "6E53SFrcFmd-"
      },
      "source": [
        "# Základný model"
      ]
    },
    {
      "cell_type": "code",
      "metadata": {
        "colab": {
          "base_uri": "https://localhost:8080/",
          "height": 1000
        },
        "id": "k0SI8tbwFsyI",
        "outputId": "019aaa54-52e3-42de-bbe5-2c40c24ebd2f"
      },
      "source": [
        "from torch.nn import Sequential, Linear, ReLU, Softmax, Conv2d, MaxPool2d, Flatten, CrossEntropyLoss\n",
        "from torch.optim import Adam\n",
        "from torch.utils.data import DataLoader\n",
        "\n",
        "# skusit velkost kernelu 5 \n",
        "KERNEL_SIZE_CONV = 3\n",
        "BATCH_SIZE = 32\n",
        "LEARNING_RATE = 1e-3\n",
        "#viac ako X epoch overfitting\n",
        "NUMBER_OF_EPOCHS = 10\n",
        "\n",
        "device = torch.device(\"cuda:0\" if torch.cuda.is_available() else \"cpu\")\n",
        "\n",
        "model, model_inference = build_model()\n",
        "model, model_inference = model.to(device), model_inference.to(device)\n",
        "\n",
        "dataloader_train = DataLoader(trainset, batch_size=BATCH_SIZE, shuffle=True)\n",
        "dataloader_val = DataLoader(valset, batch_size=BATCH_SIZE, shuffle=True)\n",
        "\n",
        "ce_loss = CrossEntropyLoss().to(device)\n",
        "optimizer = Adam(model.parameters(), lr=LEARNING_RATE)\n",
        "\n",
        "epoch_train_losses = []\n",
        "epoch_val_losses = []\n",
        "epoch_val_accs = []\n",
        "\n",
        "def build_model():\n",
        "  model = Sequential(Conv2d(3, 32, KERNEL_SIZE_CONV), MaxPool2d(2), ReLU(), \n",
        "                    Conv2d(32, 64, KERNEL_SIZE_CONV), MaxPool2d(2), ReLU(),\n",
        "                    Conv2d(64, 128, KERNEL_SIZE_CONV), MaxPool2d(2), ReLU(),\n",
        "                    Flatten(), \n",
        "                    Linear(512, 256), ReLU(), Linear(256, 128), ReLU(),\n",
        "                    Linear(128, 10))\n",
        "\n",
        "  # dim=1\n",
        "  model_inference = Sequential(model, Softmax())\n",
        "  return model, model_inference\n",
        "\n",
        "# model, model_inference = build_model()\n",
        "# model_inference(torch.from_numpy(np.zeros([1, 3, 32, 32], dtype=np.float32)))\n",
        "\n",
        "def one_epoch(model, loss, optimizer, dataloader_train, dataloader_val, device, verbose=True):\n",
        "  train_losses = []\n",
        "  val_losses = []\n",
        "\n",
        "  model.train()\n",
        "\n",
        "  for i, batch in enumerate(dataloader_train):  \n",
        "    x, y = batch[0].to(device), batch[1].to(device) \n",
        "    optimizer.zero_grad()\n",
        "\n",
        "    out = model(x)\n",
        "    loss = ce_loss(out, y)\n",
        "    loss.backward()\n",
        "    train_losses.append(loss.item())\n",
        "    optimizer.step()\n",
        "    if i % 100 == 0 and verbose:\n",
        "      print(\"Training loss at step {}: {}\".format(i, loss.item()))\n",
        "\n",
        "  model.eval()\n",
        "\n",
        "  with torch.no_grad():\n",
        "    correct = 0\n",
        "    total = 0\n",
        "    for i, batch in enumerate(dataloader_val):  \n",
        "      x, y = batch[0].to(device), batch[1].to(device)  \n",
        "\n",
        "      out = model(x)\n",
        "      loss = ce_loss(out, y)\n",
        "      acc = torch.sum(torch.argmax(out, dim=-1) == y)\n",
        "      correct += acc.item()\n",
        "      total += len(batch[1])\n",
        "      val_losses.append(loss.item())\n",
        "\n",
        "  val_acc = correct / total\n",
        "\n",
        "  return np.mean(train_losses), np.mean(val_losses), val_acc\n",
        "\n",
        "for e in range(NUMBER_OF_EPOCHS):\n",
        "  train_loss, val_loss, val_acc = one_epoch(model, ce_loss, optimizer, dataloader_train, dataloader_val, device)\n",
        "\n",
        "  print(\"Val loss at epoch {}: {}\".format(e, val_loss))\n",
        "  print(\"Val acc at epoch {}: {}\".format(e, val_acc))\n",
        "\n",
        "  epoch_train_losses.append(train_loss)\n",
        "  epoch_val_losses.append(val_loss)\n",
        "  epoch_val_accs.append(val_acc)\n",
        "\n",
        "# pridat nazvy + legendy\n",
        "plt.plot(epoch_train_losses, c='r')\n",
        "plt.plot(epoch_val_losses, c='b')\n",
        "plt.show()\n",
        "\n",
        "plt.plot(epoch_val_accs, c='r')\n",
        "plt.show()"
      ],
      "execution_count": 46,
      "outputs": [
        {
          "output_type": "stream",
          "name": "stdout",
          "text": [
            "Training loss at step 0: 2.2993857860565186\n",
            "Training loss at step 100: 1.9624378681182861\n",
            "Training loss at step 200: 2.089033365249634\n",
            "Training loss at step 300: 2.0501952171325684\n",
            "Training loss at step 400: 1.7849929332733154\n",
            "Training loss at step 500: 1.5414044857025146\n",
            "Training loss at step 600: 1.7329238653182983\n",
            "Training loss at step 700: 1.4485498666763306\n",
            "Training loss at step 800: 1.4178111553192139\n",
            "Training loss at step 900: 1.4663822650909424\n",
            "Training loss at step 1000: 1.4433159828186035\n",
            "Training loss at step 1100: 1.6722463369369507\n",
            "Training loss at step 1200: 1.4790551662445068\n",
            "Training loss at step 1300: 1.4964038133621216\n",
            "Training loss at step 1400: 1.4591305255889893\n",
            "Val loss at epoch 0: 1.3990589942142462\n",
            "Val acc at epoch 0: 0.4926\n",
            "Training loss at step 0: 1.2751961946487427\n",
            "Training loss at step 100: 1.4159200191497803\n",
            "Training loss at step 200: 1.3973661661148071\n",
            "Training loss at step 300: 1.2777090072631836\n",
            "Training loss at step 400: 1.180396556854248\n",
            "Training loss at step 500: 1.1263587474822998\n",
            "Training loss at step 600: 1.3261170387268066\n",
            "Training loss at step 700: 1.3125970363616943\n",
            "Training loss at step 800: 1.3318458795547485\n",
            "Training loss at step 900: 1.4761649370193481\n",
            "Training loss at step 1000: 1.07987642288208\n",
            "Training loss at step 1100: 1.263939380645752\n",
            "Training loss at step 1200: 1.3413100242614746\n",
            "Training loss at step 1300: 0.7937173843383789\n",
            "Training loss at step 1400: 1.0987646579742432\n",
            "Val loss at epoch 1: 1.204620710224103\n",
            "Val acc at epoch 1: 0.567\n",
            "Training loss at step 0: 0.9109534621238708\n",
            "Training loss at step 100: 0.8522927165031433\n",
            "Training loss at step 200: 0.8246623277664185\n",
            "Training loss at step 300: 1.271817922592163\n",
            "Training loss at step 400: 1.396105408668518\n",
            "Training loss at step 500: 1.426405668258667\n",
            "Training loss at step 600: 1.045494556427002\n",
            "Training loss at step 700: 1.109102487564087\n",
            "Training loss at step 800: 0.9908158183097839\n",
            "Training loss at step 900: 0.963789701461792\n",
            "Training loss at step 1000: 0.9234057664871216\n",
            "Training loss at step 1100: 1.152522087097168\n",
            "Training loss at step 1200: 1.0725412368774414\n",
            "Training loss at step 1300: 0.8611907362937927\n",
            "Training loss at step 1400: 0.6520692706108093\n",
            "Val loss at epoch 2: 1.0454364678092822\n",
            "Val acc at epoch 2: 0.622\n",
            "Training loss at step 0: 0.902931272983551\n",
            "Training loss at step 100: 1.0748591423034668\n",
            "Training loss at step 200: 1.0954246520996094\n",
            "Training loss at step 300: 0.8127387166023254\n",
            "Training loss at step 400: 1.12675142288208\n",
            "Training loss at step 500: 1.072483777999878\n",
            "Training loss at step 600: 0.8167583346366882\n",
            "Training loss at step 700: 1.0916987657546997\n",
            "Training loss at step 800: 0.9719187021255493\n",
            "Training loss at step 900: 1.0753977298736572\n",
            "Training loss at step 1000: 0.7835184335708618\n",
            "Training loss at step 1100: 1.1381146907806396\n",
            "Training loss at step 1200: 1.2127984762191772\n",
            "Training loss at step 1300: 0.8804287314414978\n",
            "Training loss at step 1400: 0.9807124137878418\n",
            "Val loss at epoch 3: 0.9761516715690588\n",
            "Val acc at epoch 3: 0.6526\n",
            "Training loss at step 0: 0.8943966627120972\n",
            "Training loss at step 100: 1.005179524421692\n",
            "Training loss at step 200: 0.8673114776611328\n",
            "Training loss at step 300: 0.7324832081794739\n",
            "Training loss at step 400: 1.1187044382095337\n",
            "Training loss at step 500: 1.1775214672088623\n",
            "Training loss at step 600: 1.1696664094924927\n",
            "Training loss at step 700: 0.9787963628768921\n",
            "Training loss at step 800: 0.5268383026123047\n",
            "Training loss at step 900: 0.8624241352081299\n",
            "Training loss at step 1000: 0.7152215242385864\n",
            "Training loss at step 1100: 0.7162119150161743\n",
            "Training loss at step 1200: 1.0427846908569336\n",
            "Training loss at step 1300: 1.0655508041381836\n",
            "Training loss at step 1400: 0.9059667587280273\n",
            "Val loss at epoch 4: 0.9381117566375975\n",
            "Val acc at epoch 4: 0.6658\n",
            "Training loss at step 0: 0.9879651069641113\n",
            "Training loss at step 100: 0.8587244153022766\n",
            "Training loss at step 200: 0.9575170874595642\n",
            "Training loss at step 300: 0.7060043215751648\n",
            "Training loss at step 400: 0.578701913356781\n",
            "Training loss at step 500: 1.0452152490615845\n",
            "Training loss at step 600: 0.9338926672935486\n",
            "Training loss at step 700: 0.7071691155433655\n",
            "Training loss at step 800: 1.1994121074676514\n",
            "Training loss at step 900: 1.359472393989563\n",
            "Training loss at step 1000: 0.7653641700744629\n",
            "Training loss at step 1100: 0.37574440240859985\n",
            "Training loss at step 1200: 0.8488645553588867\n",
            "Training loss at step 1300: 1.1875172853469849\n",
            "Training loss at step 1400: 0.6702666282653809\n",
            "Val loss at epoch 5: 0.8837306776623817\n",
            "Val acc at epoch 5: 0.6864\n",
            "Training loss at step 0: 0.43600693345069885\n",
            "Training loss at step 100: 0.8298563361167908\n",
            "Training loss at step 200: 0.5877307653427124\n",
            "Training loss at step 300: 0.5128242373466492\n",
            "Training loss at step 400: 0.7711778879165649\n",
            "Training loss at step 500: 0.932465672492981\n",
            "Training loss at step 600: 0.713058590888977\n",
            "Training loss at step 700: 1.1095572710037231\n",
            "Training loss at step 800: 0.6975497007369995\n",
            "Training loss at step 900: 0.6654704213142395\n",
            "Training loss at step 1000: 0.8970755338668823\n",
            "Training loss at step 1100: 1.045790195465088\n",
            "Training loss at step 1200: 1.150848388671875\n",
            "Training loss at step 1300: 0.6376950144767761\n",
            "Training loss at step 1400: 0.5756145715713501\n",
            "Val loss at epoch 6: 0.8874952168601333\n",
            "Val acc at epoch 6: 0.6928\n",
            "Training loss at step 0: 0.8662225008010864\n",
            "Training loss at step 100: 0.38233229517936707\n",
            "Training loss at step 200: 0.5182415246963501\n",
            "Training loss at step 300: 0.5543379187583923\n",
            "Training loss at step 400: 0.7002473473548889\n",
            "Training loss at step 500: 0.4717869162559509\n",
            "Training loss at step 600: 0.8151721358299255\n",
            "Training loss at step 700: 0.7437503337860107\n",
            "Training loss at step 800: 0.45599403977394104\n",
            "Training loss at step 900: 0.8110449314117432\n",
            "Training loss at step 1000: 0.5242406725883484\n",
            "Training loss at step 1100: 0.6567610502243042\n",
            "Training loss at step 1200: 0.3545304238796234\n",
            "Training loss at step 1300: 0.49342960119247437\n",
            "Training loss at step 1400: 0.5440807938575745\n",
            "Val loss at epoch 7: 0.8726602610509107\n",
            "Val acc at epoch 7: 0.7008\n",
            "Training loss at step 0: 0.3573271334171295\n",
            "Training loss at step 100: 0.3213225305080414\n",
            "Training loss at step 200: 0.7651466131210327\n",
            "Training loss at step 300: 0.6350381374359131\n",
            "Training loss at step 400: 0.7853535413742065\n",
            "Training loss at step 500: 0.6911068558692932\n",
            "Training loss at step 600: 0.618908166885376\n",
            "Training loss at step 700: 0.8543720245361328\n",
            "Training loss at step 800: 0.468765527009964\n",
            "Training loss at step 900: 0.8660350441932678\n",
            "Training loss at step 1000: 0.520457923412323\n",
            "Training loss at step 1200: 0.8848655223846436\n",
            "Training loss at step 1300: 0.4102570116519928\n",
            "Training loss at step 1400: 0.6861629486083984\n",
            "Val loss at epoch 8: 0.8848003532476486\n",
            "Val acc at epoch 8: 0.6982\n",
            "Training loss at step 0: 0.6289952397346497\n",
            "Training loss at step 100: 0.8421878218650818\n",
            "Training loss at step 200: 0.4492342174053192\n",
            "Training loss at step 300: 0.4690210223197937\n",
            "Training loss at step 400: 0.6985204815864563\n",
            "Training loss at step 500: 0.40399619936943054\n",
            "Training loss at step 600: 0.7909247875213623\n",
            "Training loss at step 700: 0.44062313437461853\n",
            "Training loss at step 800: 0.8387582302093506\n",
            "Training loss at step 900: 0.671737790107727\n",
            "Training loss at step 1000: 0.5677582621574402\n",
            "Training loss at step 1100: 0.38822099566459656\n",
            "Training loss at step 1200: 0.7414708733558655\n",
            "Training loss at step 1300: 0.6999000310897827\n",
            "Training loss at step 1400: 0.6944831609725952\n",
            "Val loss at epoch 9: 0.8765278868614488\n",
            "Val acc at epoch 9: 0.7086\n"
          ]
        },
        {
          "output_type": "display_data",
          "data": {
            "image/png": "[encoded data removed]",
            "text/plain": [
              "<Figure size 432x288 with 1 Axes>"
            ]
          },
          "metadata": {
            "needs_background": "light"
          }
        },
        {
          "output_type": "display_data",
          "data": {
            "image/png": "[encoded data removed]",
            "text/plain": [
              "<Figure size 432x288 with 1 Axes>"
            ]
          },
          "metadata": {
            "needs_background": "light"
          }
        }
      ]
    },
    {
      "cell_type": "markdown",
      "metadata": {
        "id": "C5Grrt16FpB1"
      },
      "source": [
        "# Aktivácie"
      ]
    },
    {
      "cell_type": "code",
      "metadata": {
        "id": "607eYPs4bfjy"
      },
      "source": [
        ""
      ],
      "execution_count": null,
      "outputs": []
    },
    {
      "cell_type": "markdown",
      "metadata": {
        "id": "V0OCX05oFu0Q"
      },
      "source": [
        "# Optimalizácia"
      ]
    },
    {
      "cell_type": "markdown",
      "metadata": {
        "id": "6hRdq4F6Fx0U"
      },
      "source": [
        "# Dropout a Augmentácia "
      ]
    },
    {
      "cell_type": "markdown",
      "metadata": {
        "id": "7sI9wwvVF54f"
      },
      "source": [
        "# Hlboká sieť (5b)"
      ]
    },
    {
      "cell_type": "markdown",
      "metadata": {
        "id": "7tOnGA-OF9ti"
      },
      "source": [
        "# Najlepší model "
      ]
    }
  ]
}